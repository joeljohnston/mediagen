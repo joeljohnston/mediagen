{
  "cells": [
    {
      "cell_type": "markdown",
      "metadata": {
        "id": "view-in-github",
        "colab_type": "text"
      },
      "source": [
        "<a href=\"https://colab.research.google.com/github/joeljohnston/mediagen/blob/master/Week_3_Regression_with_Scikit_learn.ipynb\" target=\"_parent\"><img src=\"https://colab.research.google.com/assets/colab-badge.svg\" alt=\"Open In Colab\"/></a>"
      ]
    },
    {
      "cell_type": "markdown",
      "id": "a2040e3d-bfb8-40b8-8861-4485db413cf7",
      "metadata": {
        "id": "a2040e3d-bfb8-40b8-8861-4485db413cf7"
      },
      "source": [
        "> 1. DUPLICATE THIS COLAB TO START WORKING ON IT: Use **File** > **Save a copy in Drive**\n",
        "> 2. SHARE SETTINGS: In the new notebook, set the sharing settings to **Anyone with the link** by clicking **Share** on the top-right corner.\n",
        "\n",
        "<center>\n",
        "  <img src=https://freedesignfile.com/upload/2021/01/Cartoon-illustration-home-office-vector.jpg width=\"500\" align=\"center\" />\n",
        "</center>\n",
        "<br/>\n",
        "\n",
        "\n",
        "# Week 3: Pricing your new Airbnb listings!\n",
        "\n",
        "👋 Hello 👋 Our third week project for *Python for Machine Learning* is all about seeing if you can use the dataset to make predictions for new Airbnb listings.\n",
        "\n",
        "This week's lecture and material on Uplimit demonstrated a simple flow for how to structure small machine learning projects so that you can create your own models. Now we'll test your skills a bit with this project. At the end, you'll be able to use the model that you created as an app! Let's get started 💪💪!"
      ]
    },
    {
      "cell_type": "markdown",
      "source": [
        "## Downloading the dataset\n",
        "\n",
        "You'll need to download some prerequisite Python packages in order to run all of the code below. Let's install them!"
      ],
      "metadata": {
        "id": "rISRrL2X93Yx"
      },
      "id": "rISRrL2X93Yx"
    },
    {
      "cell_type": "code",
      "source": [
        "%%capture\n",
        "!pip install numpy streamlit pandas==1.5.2 scikit-learn==1.2.0"
      ],
      "metadata": {
        "id": "JspZZKEj9ytH"
      },
      "id": "JspZZKEj9ytH",
      "execution_count": 1,
      "outputs": []
    },
    {
      "cell_type": "markdown",
      "id": "0c21b1ad-25c8-4a99-a4e0-764d568f711b",
      "metadata": {
        "id": "0c21b1ad-25c8-4a99-a4e0-764d568f711b"
      },
      "source": [
        "We will download the datasets from Google Drive just like we did last week, but this time the dataset is in [Pickle](https://pythonnumericalmethods.berkeley.edu/notebooks/chapter11.03-Pickle-Files.html)."
      ]
    },
    {
      "cell_type": "code",
      "source": [
        "!wget --no-check-certificate 'https://drive.google.com/uc?export=download&id=1KTF77Sj0kWyft9gNT3_6k84gauPA95rG' -O listings.pkl"
      ],
      "metadata": {
        "id": "68mzB2lEtgig",
        "outputId": "8919df31-373d-4b6d-f8fd-ea45f50f8dfc",
        "colab": {
          "base_uri": "https://localhost:8080/"
        }
      },
      "id": "68mzB2lEtgig",
      "execution_count": 2,
      "outputs": [
        {
          "output_type": "stream",
          "name": "stdout",
          "text": [
            "--2024-07-31 17:29:02--  https://drive.google.com/uc?export=download&id=1KTF77Sj0kWyft9gNT3_6k84gauPA95rG\n",
            "Resolving drive.google.com (drive.google.com)... 74.125.197.102, 74.125.197.101, 74.125.197.100, ...\n",
            "Connecting to drive.google.com (drive.google.com)|74.125.197.102|:443... connected.\n",
            "HTTP request sent, awaiting response... 303 See Other\n",
            "Location: https://drive.usercontent.google.com/download?id=1KTF77Sj0kWyft9gNT3_6k84gauPA95rG&export=download [following]\n",
            "--2024-07-31 17:29:02--  https://drive.usercontent.google.com/download?id=1KTF77Sj0kWyft9gNT3_6k84gauPA95rG&export=download\n",
            "Resolving drive.usercontent.google.com (drive.usercontent.google.com)... 74.125.197.132, 2607:f8b0:400e:c03::84\n",
            "Connecting to drive.usercontent.google.com (drive.usercontent.google.com)|74.125.197.132|:443... connected.\n",
            "HTTP request sent, awaiting response... 200 OK\n",
            "Length: 493925 (482K) [application/octet-stream]\n",
            "Saving to: ‘listings.pkl’\n",
            "\n",
            "listings.pkl        100%[===================>] 482.35K  --.-KB/s    in 0.006s  \n",
            "\n",
            "2024-07-31 17:29:04 (85.0 MB/s) - ‘listings.pkl’ saved [493925/493925]\n",
            "\n"
          ]
        }
      ]
    },
    {
      "cell_type": "code",
      "source": [
        "import pandas as pd\n",
        "\n",
        "# Show all columns (instead of cascading columns in the middle)\n",
        "pd.set_option(\"display.max_columns\", None)\n",
        "# Don't show numbers in scientific notation\n",
        "pd.set_option(\"display.float_format\", \"{:.2f}\".format)"
      ],
      "metadata": {
        "id": "IC0UndnWK9M1"
      },
      "id": "IC0UndnWK9M1",
      "execution_count": 3,
      "outputs": []
    },
    {
      "cell_type": "markdown",
      "source": [
        "## Preprocessing the dataset\n",
        "Please load the downloaded file as a DataFrame (df). The method for loading these datasets is the same as what we did on the Uplimit platform."
      ],
      "metadata": {
        "id": "RNofYa-GU8D2"
      },
      "id": "RNofYa-GU8D2"
    },
    {
      "cell_type": "markdown",
      "id": "4511c023-4bc6-4399-b5bf-c4977fdf1ea0",
      "metadata": {
        "id": "4511c023-4bc6-4399-b5bf-c4977fdf1ea0"
      },
      "source": [
        "#### Part 1: Read Pickle\n",
        "\n",
        "Read the Python Pickle file that we've just downloaded as `df_list`."
      ]
    },
    {
      "cell_type": "code",
      "source": [
        "# Read a Python Pickle file\n",
        "df_list = pd.read_pickle(\"listings.pkl\")"
      ],
      "metadata": {
        "id": "-nEH0subOtug"
      },
      "id": "-nEH0subOtug",
      "execution_count": 4,
      "outputs": []
    },
    {
      "cell_type": "markdown",
      "source": [
        "<details>\n",
        "<summary>Show Solution</summary>\n",
        "\n",
        "```python\n",
        "df_list = pd.read_pickle(\"listings.pkl\")\n",
        "```\n",
        "</details>"
      ],
      "metadata": {
        "id": "hTpxbTxkX1Mt"
      },
      "id": "hTpxbTxkX1Mt"
    },
    {
      "cell_type": "markdown",
      "id": "3f375704-9648-49cc-a6fc-a7f7208b476f",
      "metadata": {
        "tags": [],
        "id": "3f375704-9648-49cc-a6fc-a7f7208b476f"
      },
      "source": [
        "Now let's have a look at the **Listings DataFrame** to get a feel for how the data looks. Show the first two rows."
      ]
    },
    {
      "cell_type": "code",
      "source": [
        "# Show first two rows of the dataset\n",
        "df_list.head(2)"
      ],
      "metadata": {
        "id": "JaHn5P0_O3qT",
        "colab": {
          "base_uri": "https://localhost:8080/",
          "height": 167
        },
        "outputId": "84bf672f-3915-4caa-8832-011499068f89"
      },
      "id": "JaHn5P0_O3qT",
      "execution_count": 6,
      "outputs": [
        {
          "output_type": "execute_result",
          "data": {
            "text/plain": [
              "         id  host_acceptance_rate            neighbourhood     room_type  \\\n",
              "0  23726716                  0.95  De Pijp - Rivierenbuurt  Private room   \n",
              "1  35815046                  1.00   De Baarsjes - Oud-West   Shared room   \n",
              "\n",
              "   price_in_dollar  amenities  accommodates  host_is_superhost  \\\n",
              "0           127.00         15             7              False   \n",
              "1            62.00         13             2              False   \n",
              "\n",
              "   has_availability  review_scores_rating  instant_bookable  \\\n",
              "0              True                  4.61             False   \n",
              "1              True                  4.38             False   \n",
              "\n",
              "   number_of_reviews_l30d  discount_per_5_days_booked  \\\n",
              "0                       3                        8.00   \n",
              "1                       6                        4.00   \n",
              "\n",
              "   discount_per_10_days_booked  discount_per_30_and_more_days_booked  \\\n",
              "0                        15.00                                 16.00   \n",
              "1                        10.00                                 16.00   \n",
              "\n",
              "   host_reported_average_tip service_cost  \n",
              "0                       1.03        $4.99  \n",
              "1                       1.26        $2.99  "
            ],
            "text/html": [
              "\n",
              "  <div id=\"df-fa4d0c1f-b58b-426f-bb8c-ad487d68df59\" class=\"colab-df-container\">\n",
              "    <div>\n",
              "<style scoped>\n",
              "    .dataframe tbody tr th:only-of-type {\n",
              "        vertical-align: middle;\n",
              "    }\n",
              "\n",
              "    .dataframe tbody tr th {\n",
              "        vertical-align: top;\n",
              "    }\n",
              "\n",
              "    .dataframe thead th {\n",
              "        text-align: right;\n",
              "    }\n",
              "</style>\n",
              "<table border=\"1\" class=\"dataframe\">\n",
              "  <thead>\n",
              "    <tr style=\"text-align: right;\">\n",
              "      <th></th>\n",
              "      <th>id</th>\n",
              "      <th>host_acceptance_rate</th>\n",
              "      <th>neighbourhood</th>\n",
              "      <th>room_type</th>\n",
              "      <th>price_in_dollar</th>\n",
              "      <th>amenities</th>\n",
              "      <th>accommodates</th>\n",
              "      <th>host_is_superhost</th>\n",
              "      <th>has_availability</th>\n",
              "      <th>review_scores_rating</th>\n",
              "      <th>instant_bookable</th>\n",
              "      <th>number_of_reviews_l30d</th>\n",
              "      <th>discount_per_5_days_booked</th>\n",
              "      <th>discount_per_10_days_booked</th>\n",
              "      <th>discount_per_30_and_more_days_booked</th>\n",
              "      <th>host_reported_average_tip</th>\n",
              "      <th>service_cost</th>\n",
              "    </tr>\n",
              "  </thead>\n",
              "  <tbody>\n",
              "    <tr>\n",
              "      <th>0</th>\n",
              "      <td>23726716</td>\n",
              "      <td>0.95</td>\n",
              "      <td>De Pijp - Rivierenbuurt</td>\n",
              "      <td>Private room</td>\n",
              "      <td>127.00</td>\n",
              "      <td>15</td>\n",
              "      <td>7</td>\n",
              "      <td>False</td>\n",
              "      <td>True</td>\n",
              "      <td>4.61</td>\n",
              "      <td>False</td>\n",
              "      <td>3</td>\n",
              "      <td>8.00</td>\n",
              "      <td>15.00</td>\n",
              "      <td>16.00</td>\n",
              "      <td>1.03</td>\n",
              "      <td>$4.99</td>\n",
              "    </tr>\n",
              "    <tr>\n",
              "      <th>1</th>\n",
              "      <td>35815046</td>\n",
              "      <td>1.00</td>\n",
              "      <td>De Baarsjes - Oud-West</td>\n",
              "      <td>Shared room</td>\n",
              "      <td>62.00</td>\n",
              "      <td>13</td>\n",
              "      <td>2</td>\n",
              "      <td>False</td>\n",
              "      <td>True</td>\n",
              "      <td>4.38</td>\n",
              "      <td>False</td>\n",
              "      <td>6</td>\n",
              "      <td>4.00</td>\n",
              "      <td>10.00</td>\n",
              "      <td>16.00</td>\n",
              "      <td>1.26</td>\n",
              "      <td>$2.99</td>\n",
              "    </tr>\n",
              "  </tbody>\n",
              "</table>\n",
              "</div>\n",
              "    <div class=\"colab-df-buttons\">\n",
              "\n",
              "  <div class=\"colab-df-container\">\n",
              "    <button class=\"colab-df-convert\" onclick=\"convertToInteractive('df-fa4d0c1f-b58b-426f-bb8c-ad487d68df59')\"\n",
              "            title=\"Convert this dataframe to an interactive table.\"\n",
              "            style=\"display:none;\">\n",
              "\n",
              "  <svg xmlns=\"http://www.w3.org/2000/svg\" height=\"24px\" viewBox=\"0 -960 960 960\">\n",
              "    <path d=\"M120-120v-720h720v720H120Zm60-500h600v-160H180v160Zm220 220h160v-160H400v160Zm0 220h160v-160H400v160ZM180-400h160v-160H180v160Zm440 0h160v-160H620v160ZM180-180h160v-160H180v160Zm440 0h160v-160H620v160Z\"/>\n",
              "  </svg>\n",
              "    </button>\n",
              "\n",
              "  <style>\n",
              "    .colab-df-container {\n",
              "      display:flex;\n",
              "      gap: 12px;\n",
              "    }\n",
              "\n",
              "    .colab-df-convert {\n",
              "      background-color: #E8F0FE;\n",
              "      border: none;\n",
              "      border-radius: 50%;\n",
              "      cursor: pointer;\n",
              "      display: none;\n",
              "      fill: #1967D2;\n",
              "      height: 32px;\n",
              "      padding: 0 0 0 0;\n",
              "      width: 32px;\n",
              "    }\n",
              "\n",
              "    .colab-df-convert:hover {\n",
              "      background-color: #E2EBFA;\n",
              "      box-shadow: 0px 1px 2px rgba(60, 64, 67, 0.3), 0px 1px 3px 1px rgba(60, 64, 67, 0.15);\n",
              "      fill: #174EA6;\n",
              "    }\n",
              "\n",
              "    .colab-df-buttons div {\n",
              "      margin-bottom: 4px;\n",
              "    }\n",
              "\n",
              "    [theme=dark] .colab-df-convert {\n",
              "      background-color: #3B4455;\n",
              "      fill: #D2E3FC;\n",
              "    }\n",
              "\n",
              "    [theme=dark] .colab-df-convert:hover {\n",
              "      background-color: #434B5C;\n",
              "      box-shadow: 0px 1px 3px 1px rgba(0, 0, 0, 0.15);\n",
              "      filter: drop-shadow(0px 1px 2px rgba(0, 0, 0, 0.3));\n",
              "      fill: #FFFFFF;\n",
              "    }\n",
              "  </style>\n",
              "\n",
              "    <script>\n",
              "      const buttonEl =\n",
              "        document.querySelector('#df-fa4d0c1f-b58b-426f-bb8c-ad487d68df59 button.colab-df-convert');\n",
              "      buttonEl.style.display =\n",
              "        google.colab.kernel.accessAllowed ? 'block' : 'none';\n",
              "\n",
              "      async function convertToInteractive(key) {\n",
              "        const element = document.querySelector('#df-fa4d0c1f-b58b-426f-bb8c-ad487d68df59');\n",
              "        const dataTable =\n",
              "          await google.colab.kernel.invokeFunction('convertToInteractive',\n",
              "                                                    [key], {});\n",
              "        if (!dataTable) return;\n",
              "\n",
              "        const docLinkHtml = 'Like what you see? Visit the ' +\n",
              "          '<a target=\"_blank\" href=https://colab.research.google.com/notebooks/data_table.ipynb>data table notebook</a>'\n",
              "          + ' to learn more about interactive tables.';\n",
              "        element.innerHTML = '';\n",
              "        dataTable['output_type'] = 'display_data';\n",
              "        await google.colab.output.renderOutput(dataTable, element);\n",
              "        const docLink = document.createElement('div');\n",
              "        docLink.innerHTML = docLinkHtml;\n",
              "        element.appendChild(docLink);\n",
              "      }\n",
              "    </script>\n",
              "  </div>\n",
              "\n",
              "\n",
              "<div id=\"df-613c55ba-2dfc-4957-9dec-80c2a1633011\">\n",
              "  <button class=\"colab-df-quickchart\" onclick=\"quickchart('df-613c55ba-2dfc-4957-9dec-80c2a1633011')\"\n",
              "            title=\"Suggest charts\"\n",
              "            style=\"display:none;\">\n",
              "\n",
              "<svg xmlns=\"http://www.w3.org/2000/svg\" height=\"24px\"viewBox=\"0 0 24 24\"\n",
              "     width=\"24px\">\n",
              "    <g>\n",
              "        <path d=\"M19 3H5c-1.1 0-2 .9-2 2v14c0 1.1.9 2 2 2h14c1.1 0 2-.9 2-2V5c0-1.1-.9-2-2-2zM9 17H7v-7h2v7zm4 0h-2V7h2v10zm4 0h-2v-4h2v4z\"/>\n",
              "    </g>\n",
              "</svg>\n",
              "  </button>\n",
              "\n",
              "<style>\n",
              "  .colab-df-quickchart {\n",
              "      --bg-color: #E8F0FE;\n",
              "      --fill-color: #1967D2;\n",
              "      --hover-bg-color: #E2EBFA;\n",
              "      --hover-fill-color: #174EA6;\n",
              "      --disabled-fill-color: #AAA;\n",
              "      --disabled-bg-color: #DDD;\n",
              "  }\n",
              "\n",
              "  [theme=dark] .colab-df-quickchart {\n",
              "      --bg-color: #3B4455;\n",
              "      --fill-color: #D2E3FC;\n",
              "      --hover-bg-color: #434B5C;\n",
              "      --hover-fill-color: #FFFFFF;\n",
              "      --disabled-bg-color: #3B4455;\n",
              "      --disabled-fill-color: #666;\n",
              "  }\n",
              "\n",
              "  .colab-df-quickchart {\n",
              "    background-color: var(--bg-color);\n",
              "    border: none;\n",
              "    border-radius: 50%;\n",
              "    cursor: pointer;\n",
              "    display: none;\n",
              "    fill: var(--fill-color);\n",
              "    height: 32px;\n",
              "    padding: 0;\n",
              "    width: 32px;\n",
              "  }\n",
              "\n",
              "  .colab-df-quickchart:hover {\n",
              "    background-color: var(--hover-bg-color);\n",
              "    box-shadow: 0 1px 2px rgba(60, 64, 67, 0.3), 0 1px 3px 1px rgba(60, 64, 67, 0.15);\n",
              "    fill: var(--button-hover-fill-color);\n",
              "  }\n",
              "\n",
              "  .colab-df-quickchart-complete:disabled,\n",
              "  .colab-df-quickchart-complete:disabled:hover {\n",
              "    background-color: var(--disabled-bg-color);\n",
              "    fill: var(--disabled-fill-color);\n",
              "    box-shadow: none;\n",
              "  }\n",
              "\n",
              "  .colab-df-spinner {\n",
              "    border: 2px solid var(--fill-color);\n",
              "    border-color: transparent;\n",
              "    border-bottom-color: var(--fill-color);\n",
              "    animation:\n",
              "      spin 1s steps(1) infinite;\n",
              "  }\n",
              "\n",
              "  @keyframes spin {\n",
              "    0% {\n",
              "      border-color: transparent;\n",
              "      border-bottom-color: var(--fill-color);\n",
              "      border-left-color: var(--fill-color);\n",
              "    }\n",
              "    20% {\n",
              "      border-color: transparent;\n",
              "      border-left-color: var(--fill-color);\n",
              "      border-top-color: var(--fill-color);\n",
              "    }\n",
              "    30% {\n",
              "      border-color: transparent;\n",
              "      border-left-color: var(--fill-color);\n",
              "      border-top-color: var(--fill-color);\n",
              "      border-right-color: var(--fill-color);\n",
              "    }\n",
              "    40% {\n",
              "      border-color: transparent;\n",
              "      border-right-color: var(--fill-color);\n",
              "      border-top-color: var(--fill-color);\n",
              "    }\n",
              "    60% {\n",
              "      border-color: transparent;\n",
              "      border-right-color: var(--fill-color);\n",
              "    }\n",
              "    80% {\n",
              "      border-color: transparent;\n",
              "      border-right-color: var(--fill-color);\n",
              "      border-bottom-color: var(--fill-color);\n",
              "    }\n",
              "    90% {\n",
              "      border-color: transparent;\n",
              "      border-bottom-color: var(--fill-color);\n",
              "    }\n",
              "  }\n",
              "</style>\n",
              "\n",
              "  <script>\n",
              "    async function quickchart(key) {\n",
              "      const quickchartButtonEl =\n",
              "        document.querySelector('#' + key + ' button');\n",
              "      quickchartButtonEl.disabled = true;  // To prevent multiple clicks.\n",
              "      quickchartButtonEl.classList.add('colab-df-spinner');\n",
              "      try {\n",
              "        const charts = await google.colab.kernel.invokeFunction(\n",
              "            'suggestCharts', [key], {});\n",
              "      } catch (error) {\n",
              "        console.error('Error during call to suggestCharts:', error);\n",
              "      }\n",
              "      quickchartButtonEl.classList.remove('colab-df-spinner');\n",
              "      quickchartButtonEl.classList.add('colab-df-quickchart-complete');\n",
              "    }\n",
              "    (() => {\n",
              "      let quickchartButtonEl =\n",
              "        document.querySelector('#df-613c55ba-2dfc-4957-9dec-80c2a1633011 button');\n",
              "      quickchartButtonEl.style.display =\n",
              "        google.colab.kernel.accessAllowed ? 'block' : 'none';\n",
              "    })();\n",
              "  </script>\n",
              "</div>\n",
              "\n",
              "    </div>\n",
              "  </div>\n"
            ],
            "application/vnd.google.colaboratory.intrinsic+json": {
              "type": "dataframe",
              "variable_name": "df_list",
              "summary": "{\n  \"name\": \"df_list\",\n  \"rows\": 4817,\n  \"fields\": [\n    {\n      \"column\": \"id\",\n      \"properties\": {\n        \"dtype\": \"number\",\n        \"std\": 122013547774396000,\n        \"min\": 2828,\n        \"max\": 638351211861098441,\n        \"num_unique_values\": 4817,\n        \"samples\": [\n          583906252685120327,\n          13001871,\n          24097062\n        ],\n        \"semantic_type\": \"\",\n        \"description\": \"\"\n      }\n    },\n    {\n      \"column\": \"host_acceptance_rate\",\n      \"properties\": {\n        \"dtype\": \"number\",\n        \"std\": 0.3040259261419619,\n        \"min\": 0.0,\n        \"max\": 1.0,\n        \"num_unique_values\": 247,\n        \"samples\": [\n          0.36,\n          0.97,\n          0.32\n        ],\n        \"semantic_type\": \"\",\n        \"description\": \"\"\n      }\n    },\n    {\n      \"column\": \"neighbourhood\",\n      \"properties\": {\n        \"dtype\": \"category\",\n        \"num_unique_values\": 22,\n        \"samples\": [\n          \"De Pijp - Rivierenbuurt\",\n          \"Centrum-Oost\",\n          \"Centrum-West\"\n        ],\n        \"semantic_type\": \"\",\n        \"description\": \"\"\n      }\n    },\n    {\n      \"column\": \"room_type\",\n      \"properties\": {\n        \"dtype\": \"category\",\n        \"num_unique_values\": 4,\n        \"samples\": [\n          \"Shared room\",\n          \"Hotel room\",\n          \"Private room\"\n        ],\n        \"semantic_type\": \"\",\n        \"description\": \"\"\n      }\n    },\n    {\n      \"column\": \"price_in_dollar\",\n      \"properties\": {\n        \"dtype\": \"number\",\n        \"std\": 97.07974965569086,\n        \"min\": 19.0,\n        \"max\": 502.0,\n        \"num_unique_values\": 428,\n        \"samples\": [\n          394.0,\n          73.0,\n          220.0\n        ],\n        \"semantic_type\": \"\",\n        \"description\": \"\"\n      }\n    },\n    {\n      \"column\": \"amenities\",\n      \"properties\": {\n        \"dtype\": \"number\",\n        \"std\": 9,\n        \"min\": 0,\n        \"max\": 50,\n        \"num_unique_values\": 51,\n        \"samples\": [\n          45,\n          3,\n          50\n        ],\n        \"semantic_type\": \"\",\n        \"description\": \"\"\n      }\n    },\n    {\n      \"column\": \"accommodates\",\n      \"properties\": {\n        \"dtype\": \"number\",\n        \"std\": 4,\n        \"min\": 1,\n        \"max\": 16,\n        \"num_unique_values\": 16,\n        \"samples\": [\n          7,\n          2,\n          5\n        ],\n        \"semantic_type\": \"\",\n        \"description\": \"\"\n      }\n    },\n    {\n      \"column\": \"host_is_superhost\",\n      \"properties\": {\n        \"dtype\": \"boolean\",\n        \"num_unique_values\": 2,\n        \"samples\": [\n          true,\n          false\n        ],\n        \"semantic_type\": \"\",\n        \"description\": \"\"\n      }\n    },\n    {\n      \"column\": \"has_availability\",\n      \"properties\": {\n        \"dtype\": \"boolean\",\n        \"num_unique_values\": 2,\n        \"samples\": [\n          false,\n          true\n        ],\n        \"semantic_type\": \"\",\n        \"description\": \"\"\n      }\n    },\n    {\n      \"column\": \"review_scores_rating\",\n      \"properties\": {\n        \"dtype\": \"number\",\n        \"std\": 0.5794642906823301,\n        \"min\": 0.0,\n        \"max\": 5.0,\n        \"num_unique_values\": 1261,\n        \"samples\": [\n          3.5115738025415446,\n          4.389051808406647\n        ],\n        \"semantic_type\": \"\",\n        \"description\": \"\"\n      }\n    },\n    {\n      \"column\": \"instant_bookable\",\n      \"properties\": {\n        \"dtype\": \"boolean\",\n        \"num_unique_values\": 2,\n        \"samples\": [\n          true,\n          false\n        ],\n        \"semantic_type\": \"\",\n        \"description\": \"\"\n      }\n    },\n    {\n      \"column\": \"number_of_reviews_l30d\",\n      \"properties\": {\n        \"dtype\": \"number\",\n        \"std\": 3,\n        \"min\": 0,\n        \"max\": 128,\n        \"num_unique_values\": 24,\n        \"samples\": [\n          5,\n          71\n        ],\n        \"semantic_type\": \"\",\n        \"description\": \"\"\n      }\n    },\n    {\n      \"column\": \"discount_per_5_days_booked\",\n      \"properties\": {\n        \"dtype\": \"number\",\n        \"std\": 2.461268165664087,\n        \"min\": 0.0,\n        \"max\": 19.0,\n        \"num_unique_values\": 20,\n        \"samples\": [\n          8.0,\n          19.0\n        ],\n        \"semantic_type\": \"\",\n        \"description\": \"\"\n      }\n    },\n    {\n      \"column\": \"discount_per_10_days_booked\",\n      \"properties\": {\n        \"dtype\": \"number\",\n        \"std\": 5.4546072887167,\n        \"min\": 0.0,\n        \"max\": 40.0,\n        \"num_unique_values\": 39,\n        \"samples\": [\n          40.0,\n          1.0\n        ],\n        \"semantic_type\": \"\",\n        \"description\": \"\"\n      }\n    },\n    {\n      \"column\": \"discount_per_30_and_more_days_booked\",\n      \"properties\": {\n        \"dtype\": \"number\",\n        \"std\": 5.022019278327398,\n        \"min\": 7.0,\n        \"max\": 43.0,\n        \"num_unique_values\": 32,\n        \"samples\": [\n          43.0,\n          28.0\n        ],\n        \"semantic_type\": \"\",\n        \"description\": \"\"\n      }\n    },\n    {\n      \"column\": \"host_reported_average_tip\",\n      \"properties\": {\n        \"dtype\": \"number\",\n        \"std\": 11.185271882903654,\n        \"min\": 0.0,\n        \"max\": 37.54,\n        \"num_unique_values\": 1680,\n        \"samples\": [\n          29.36,\n          29.59\n        ],\n        \"semantic_type\": \"\",\n        \"description\": \"\"\n      }\n    },\n    {\n      \"column\": \"service_cost\",\n      \"properties\": {\n        \"dtype\": \"category\",\n        \"num_unique_values\": 4,\n        \"samples\": [\n          \"$2.99\",\n          \"$10.99\"\n        ],\n        \"semantic_type\": \"\",\n        \"description\": \"\"\n      }\n    }\n  ]\n}"
            }
          },
          "metadata": {},
          "execution_count": 6
        }
      ]
    },
    {
      "cell_type": "markdown",
      "source": [
        "<details>\n",
        "<summary>Show Solution</summary>\n",
        "\n",
        "```python\n",
        "df_list.head(2)\n",
        "```\n",
        "</details>"
      ],
      "metadata": {
        "id": "KL80d9COYEr2"
      },
      "id": "KL80d9COYEr2"
    },
    {
      "cell_type": "markdown",
      "source": [
        "Awesome! Our next step is to get an overview of the columns that are in this particular DataFrame 🧐."
      ],
      "metadata": {
        "id": "cP2eVhs0L0Gq"
      },
      "id": "cP2eVhs0L0Gq"
    },
    {
      "cell_type": "markdown",
      "id": "38b21f27-24ea-4622-8c2a-c4bb065b5d4e",
      "metadata": {
        "id": "38b21f27-24ea-4622-8c2a-c4bb065b5d4e"
      },
      "source": [
        "#### Part 2: Print column names, types, and non-null values\n",
        "\n",
        "Let's try and get an overview of the **Listings DataFrame**, called `df_list`, with the [`info()`](https://pandas.pydata.org/pandas-docs/stable/reference/api/pandas.DataFrame.info.html) command. This should show us some details about the columns in the DataFrame, like the column names, their data types, and the number of non-null values."
      ]
    },
    {
      "cell_type": "code",
      "source": [
        "df_list.info()"
      ],
      "metadata": {
        "id": "fy0TfpzJO9NE",
        "outputId": "af60c08f-134a-4bb8-9500-a0f68cbef609",
        "colab": {
          "base_uri": "https://localhost:8080/"
        }
      },
      "id": "fy0TfpzJO9NE",
      "execution_count": 8,
      "outputs": [
        {
          "output_type": "stream",
          "name": "stdout",
          "text": [
            "<class 'pandas.core.frame.DataFrame'>\n",
            "Int64Index: 4817 entries, 0 to 6172\n",
            "Data columns (total 17 columns):\n",
            " #   Column                                Non-Null Count  Dtype   \n",
            "---  ------                                --------------  -----   \n",
            " 0   id                                    4817 non-null   int64   \n",
            " 1   host_acceptance_rate                  4817 non-null   float64 \n",
            " 2   neighbourhood                         4817 non-null   category\n",
            " 3   room_type                             4817 non-null   category\n",
            " 4   price_in_dollar                       4817 non-null   float64 \n",
            " 5   amenities                             4817 non-null   int64   \n",
            " 6   accommodates                          4817 non-null   int64   \n",
            " 7   host_is_superhost                     4817 non-null   bool    \n",
            " 8   has_availability                      4817 non-null   bool    \n",
            " 9   review_scores_rating                  4817 non-null   float64 \n",
            " 10  instant_bookable                      4817 non-null   bool    \n",
            " 11  number_of_reviews_l30d                4817 non-null   int64   \n",
            " 12  discount_per_5_days_booked            4817 non-null   float64 \n",
            " 13  discount_per_10_days_booked           4817 non-null   float64 \n",
            " 14  discount_per_30_and_more_days_booked  4817 non-null   float64 \n",
            " 15  host_reported_average_tip             4817 non-null   float64 \n",
            " 16  service_cost                          4817 non-null   category\n",
            "dtypes: bool(3), category(3), float64(7), int64(4)\n",
            "memory usage: 480.1 KB\n"
          ]
        }
      ]
    },
    {
      "cell_type": "markdown",
      "source": [
        "<details>\n",
        "<summary>Show Solution</summary>\n",
        "\n",
        "```python\n",
        "df_list.info()\n",
        "```\n",
        "</details>"
      ],
      "metadata": {
        "id": "8s_YerokZM8s"
      },
      "id": "8s_YerokZM8s"
    },
    {
      "cell_type": "markdown",
      "source": [
        "This info printout provides a good overview of which columns we can use to make our predictions. Often you don't need to use all of data/columns to make great predictions.\n",
        "\n",
        "Also, we saw on Uplimit this week that columns with the dtype **category** and **boolean** require some processing in order for us to use them in Scikit-learn algorithms. The algorithms from Scikit-learn that we will use are not made to handle text, unless it is encoded properly. These algorithms work well with numerical values."
      ],
      "metadata": {
        "id": "4ml13_W2eKvm"
      },
      "id": "4ml13_W2eKvm"
    },
    {
      "cell_type": "markdown",
      "source": [
        "#### Part 3: Make a selection\n",
        "\n",
        "There are a total of 17 columns. For readability purposes, we are going to prematurely drop a lot of these columns. In practice, you often drop columns at a later stage once you've determined their value. This is something we'll look into next week. For now we want you to drop the columns:\n",
        "\n",
        "- **id** (it has no meaning for the ML algorithm)\n",
        "- **host_acceptance_rate**\n",
        "- **host_is_superhost**\n",
        "- **has_availability**\n",
        "- **number_of_reviews_l30d**\n",
        "- **discount_per_5_days_booked**\n",
        "- **discount_per_10_days_booked**\n",
        "- **discount_per_30_and_more_days_booked**\n",
        "- **service_cost**\n"
      ],
      "metadata": {
        "id": "fM5DSYBMP6ZV"
      },
      "id": "fM5DSYBMP6ZV"
    },
    {
      "cell_type": "code",
      "source": [
        "df_list = df_list.drop(columns=[\"id\", \"host_acceptance_rate\", \"host_is_superhost\", \"has_availability\", \"number_of_reviews_l30d\",\n",
        "                                \"discount_per_5_days_booked\", \"discount_per_10_days_booked\", \"discount_per_30_and_more_days_booked\", \"service_cost\"],\n",
        "                       axis=1)"
      ],
      "metadata": {
        "id": "RWjB_nvCO_Me"
      },
      "id": "RWjB_nvCO_Me",
      "execution_count": 9,
      "outputs": []
    },
    {
      "cell_type": "markdown",
      "source": [
        "<details>\n",
        "\n",
        "> Indented block\n",
        "\n",
        "\n",
        "<summary>Show Solution</summary>\n",
        "\n",
        "```python\n",
        "df_list = df_list.drop(columns=[\"id\", \"host_acceptance_rate\", \"host_is_superhost\", \"has_availability\", \"number_of_reviews_l30d\",\n",
        "                                \"discount_per_5_days_booked\", \"discount_per_10_days_booked\", \"discount_per_30_and_more_days_booked\", \"service_cost\"],\n",
        "                       axis=1)\n",
        "\n",
        "```\n",
        "</details>"
      ],
      "metadata": {
        "id": "C0YpLCChaHX1"
      },
      "id": "C0YpLCChaHX1"
    },
    {
      "cell_type": "markdown",
      "source": [
        "Now take another look at the leftover information contained in the DataFrame."
      ],
      "metadata": {
        "id": "v_h9DU2PjkVe"
      },
      "id": "v_h9DU2PjkVe"
    },
    {
      "cell_type": "code",
      "source": [
        "df_list.info()"
      ],
      "metadata": {
        "id": "FPyNu16IPA-r",
        "outputId": "1d2d0848-d030-4924-c13d-206538913368",
        "colab": {
          "base_uri": "https://localhost:8080/"
        }
      },
      "id": "FPyNu16IPA-r",
      "execution_count": 10,
      "outputs": [
        {
          "output_type": "stream",
          "name": "stdout",
          "text": [
            "<class 'pandas.core.frame.DataFrame'>\n",
            "Int64Index: 4817 entries, 0 to 6172\n",
            "Data columns (total 8 columns):\n",
            " #   Column                     Non-Null Count  Dtype   \n",
            "---  ------                     --------------  -----   \n",
            " 0   neighbourhood              4817 non-null   category\n",
            " 1   room_type                  4817 non-null   category\n",
            " 2   price_in_dollar            4817 non-null   float64 \n",
            " 3   amenities                  4817 non-null   int64   \n",
            " 4   accommodates               4817 non-null   int64   \n",
            " 5   review_scores_rating       4817 non-null   float64 \n",
            " 6   instant_bookable           4817 non-null   bool    \n",
            " 7   host_reported_average_tip  4817 non-null   float64 \n",
            "dtypes: bool(1), category(2), float64(3), int64(2)\n",
            "memory usage: 240.1 KB\n"
          ]
        }
      ]
    },
    {
      "cell_type": "markdown",
      "source": [
        "<details>\n",
        "<summary>Show Solution</summary>\n",
        "\n",
        "```python\n",
        "df_list.info()\n",
        "\n",
        "```\n",
        "</details>"
      ],
      "metadata": {
        "id": "bejLsRPWclYs"
      },
      "id": "bejLsRPWclYs"
    },
    {
      "cell_type": "markdown",
      "source": [
        "Here we see that we are left with two categorical values and one boolean value. These need to be encoded in a format that a Scikit-learn algorithm can work with.\n",
        "\n",
        "Also, it is important that we determine what we actually want our algorithm to predict. We'd like to predict for price for an airbnb listing. So our target variable will be \"price_in_dollar\", while the other variables are our features. This means that our problem yet again is a regression problem, since our target variable is a continuous numerical value.\n"
      ],
      "metadata": {
        "id": "0DYmBpKtkOVN"
      },
      "id": "0DYmBpKtkOVN"
    },
    {
      "cell_type": "markdown",
      "source": [
        "#### Part 4: Create the target and feature variables\n",
        "\n",
        "It's necessary that we split our dataset before we start training our algorithm. Remember the \"student taking a test\" metaphor?\n",
        "\n",
        "Let's split up our DataFrame into target (y) and feature variables (X), using the leftover columns from the previous task."
      ],
      "metadata": {
        "id": "w7WX_-PQmURy"
      },
      "id": "w7WX_-PQmURy"
    },
    {
      "cell_type": "code",
      "source": [
        "X, y = (\n",
        "    df_list[[\"neighbourhood\", \"room_type\", \"host_reported_average_tip\", \"amenities\",\n",
        "             \"accommodates\", \"review_scores_rating\", \"instant_bookable\"]],\n",
        "    df_list[[\"price_in_dollar\"]],\n",
        ")"
      ],
      "metadata": {
        "id": "JSDFjZ1pPCud"
      },
      "id": "JSDFjZ1pPCud",
      "execution_count": 11,
      "outputs": []
    },
    {
      "cell_type": "markdown",
      "source": [
        "<details>\n",
        "<summary>Show Solution</summary>\n",
        "\n",
        "```python\n",
        "# features (X), label (y)\n",
        "X, y = (\n",
        "    df_list[[\"neighbourhood\", \"room_type\", \"host_reported_average_tip\", \"amenities\",\n",
        "             \"accommodates\", \"review_scores_rating\", \"instant_bookable\"]],\n",
        "    df_list[[\"price_in_dollar\"]],\n",
        ")\n",
        "\n",
        "```\n",
        "</details>"
      ],
      "metadata": {
        "id": "Z-i8mQOQc7zv"
      },
      "id": "Z-i8mQOQc7zv"
    },
    {
      "cell_type": "markdown",
      "source": [
        "#### Part 5: Create the target and feature variables\n",
        "\n",
        "Let's make a function that we can use to split our dataset into three separate parts. We are going to need to first split our dataset into train, test, and validation splits. But before we can do this, we need to prepare some small stuff. An example is setting a seed so that our results are reproducible when we run our training from any computer at any time."
      ],
      "metadata": {
        "id": "YUx9Jv5bm9VW"
      },
      "id": "YUx9Jv5bm9VW"
    },
    {
      "cell_type": "code",
      "source": [
        "# Setting seed allows us to generate a random dataset split that\n",
        "# is the same on every computer. Otherwise, every time you run\n",
        "# the split, you'd get a different dataset split.\n",
        "SEED = 42"
      ],
      "metadata": {
        "id": "DO7vVxvvPMpS"
      },
      "id": "DO7vVxvvPMpS",
      "execution_count": 12,
      "outputs": []
    },
    {
      "cell_type": "markdown",
      "source": [
        "<details>\n",
        "<summary>Show Solution</summary>\n",
        "\n",
        "```python\n",
        "SEED = 42\n",
        "\n",
        "```\n",
        "</details>"
      ],
      "metadata": {
        "id": "coyfn6N_dZT1"
      },
      "id": "coyfn6N_dZT1"
    },
    {
      "cell_type": "markdown",
      "source": [
        "Then we should create a function that splits our dataset into three. Please have a peek over at Uplimit to see how we made this function!"
      ],
      "metadata": {
        "id": "uuPcUl874xwH"
      },
      "id": "uuPcUl874xwH"
    },
    {
      "cell_type": "code",
      "source": [
        "import sklearn\n",
        "from sklearn.model_selection import train_test_split\n",
        "\n",
        "def train_validation_test_split(\n",
        "    X, y, train_ratio: float, validation_ratio: float, test_ratio: float\n",
        "):\n",
        "    # Split up dataset into train and test, of which we split up the test\n",
        "    X_train, X_test, y_train, y_test = train_test_split(\n",
        "        X, y, test_size=(1 - train_ratio), random_state=SEED\n",
        "    )\n",
        "\n",
        "    # Split up test into two (validation and test)\n",
        "    X_val, X_test, y_val, y_test = train_test_split(\n",
        "        X_test,\n",
        "        y_test,\n",
        "        test_size=(test_ratio / (test_ratio + validation_ratio)),\n",
        "        random_state=SEED,\n",
        "    )\n",
        "\n",
        "    # Return the splits\n",
        "    return X_train, X_val, X_test, y_train, y_val, y_test"
      ],
      "metadata": {
        "id": "z1TkwzfwPYCC"
      },
      "id": "z1TkwzfwPYCC",
      "execution_count": 13,
      "outputs": []
    },
    {
      "cell_type": "markdown",
      "source": [
        "<details>\n",
        "<summary>Show Solution</summary>\n",
        "\n",
        "```python\n",
        "\n",
        "def train_validation_test_split(\n",
        "    X, y, train_ratio: float, validation_ratio: float, test_ratio: float\n",
        "):\n",
        "    # Split up dataset into train and test, of which we split up the test.\n",
        "    X_train, X_test, y_train, y_test = train_test_split(\n",
        "        X, y, test_size=(1 - train_ratio), random_state=SEED\n",
        "    )\n",
        "\n",
        "    # Split up test into two (validation and test).\n",
        "    X_val, X_test, y_val, y_test = train_test_split(\n",
        "        X_test,\n",
        "        y_test,\n",
        "        test_size=(test_ratio / (test_ratio + validation_ratio)),\n",
        "        random_state=SEED,\n",
        "    )\n",
        "\n",
        "    # Return the splits\n",
        "    return X_train, X_val, X_test, y_train, y_val, y_test\n",
        "\n",
        "```\n",
        "</details>"
      ],
      "metadata": {
        "id": "_cAKzmdReHau"
      },
      "id": "_cAKzmdReHau"
    },
    {
      "cell_type": "markdown",
      "source": [
        "This time we want a different ratio. We want to split our dataset into a ratio of 75%/15%/10% for train, validation, and test, respectively. Please do so below."
      ],
      "metadata": {
        "id": "aoi88zSyn527"
      },
      "id": "aoi88zSyn527"
    },
    {
      "cell_type": "code",
      "source": [
        "# Splits according to ratio of 75/15/10\n",
        "X_train, X_val, X_test, y_train, y_val, y_test = train_validation_test_split(\n",
        "    X, y, 0.75, 0.15, 0.1\n",
        ")"
      ],
      "metadata": {
        "id": "GNKpvtYIPkar"
      },
      "id": "GNKpvtYIPkar",
      "execution_count": 14,
      "outputs": []
    },
    {
      "cell_type": "markdown",
      "source": [
        "<details>\n",
        "<summary>Show Solution</summary>\n",
        "\n",
        "```python\n",
        "# Splits according to ratio of 75/15/10\n",
        "X_train, X_val, X_test, y_train, y_val, y_test = train_validation_test_split(\n",
        "    X, y, 0.75, 0.15, 0.1\n",
        ")\n",
        "\n",
        "```\n",
        "</details>"
      ],
      "metadata": {
        "id": "5Dv1cIkFeboS"
      },
      "id": "5Dv1cIkFeboS"
    },
    {
      "cell_type": "markdown",
      "source": [
        "#### Part 6: Verify the dataset sizes\n",
        "\n",
        "Since you split the dataset into three parts, let's manually verify if their shape corresponds with what is expected, given the previous ratio. Use Pandas [`shape`](https://pandas.pydata.org/docs/reference/api/pandas.DataFrame.shape.html) to perform counts for each dataset."
      ],
      "metadata": {
        "id": "_ZUy8nib5CMn"
      },
      "id": "_ZUy8nib5CMn"
    },
    {
      "cell_type": "code",
      "source": [
        "X_train.shape, X_val.shape, X_test.shape"
      ],
      "metadata": {
        "id": "miRTshoePpzb",
        "colab": {
          "base_uri": "https://localhost:8080/"
        },
        "outputId": "44d1b531-bf16-4a4c-dee1-2955cf7e616f"
      },
      "id": "miRTshoePpzb",
      "execution_count": 15,
      "outputs": [
        {
          "output_type": "execute_result",
          "data": {
            "text/plain": [
              "((3612, 7), (723, 7), (482, 7))"
            ]
          },
          "metadata": {},
          "execution_count": 15
        }
      ]
    },
    {
      "cell_type": "markdown",
      "source": [
        "<details>\n",
        "<summary>Show Solution</summary>\n",
        "\n",
        "```python\n",
        "X.shape, X_train.shape, X_val.shape, X_test.shape\n",
        "\n",
        "```\n",
        "</details>"
      ],
      "metadata": {
        "id": "RPTzLKsnfN-M"
      },
      "id": "RPTzLKsnfN-M"
    },
    {
      "cell_type": "markdown",
      "source": [
        "#### Part 7: Convert `bool` to `int`\n",
        "\n",
        "As you might remember from above, we have three variables that we need to encode properly: the boolean and the categorical values. Please see below."
      ],
      "metadata": {
        "id": "YcMp-QFB51OZ"
      },
      "id": "YcMp-QFB51OZ"
    },
    {
      "cell_type": "code",
      "source": [
        "X.info()"
      ],
      "metadata": {
        "id": "ip02rKbq6BsO",
        "outputId": "b256db6f-6e1f-4848-8fed-f3e02c98a398",
        "colab": {
          "base_uri": "https://localhost:8080/"
        }
      },
      "id": "ip02rKbq6BsO",
      "execution_count": 16,
      "outputs": [
        {
          "output_type": "stream",
          "name": "stdout",
          "text": [
            "<class 'pandas.core.frame.DataFrame'>\n",
            "Int64Index: 4817 entries, 0 to 6172\n",
            "Data columns (total 7 columns):\n",
            " #   Column                     Non-Null Count  Dtype   \n",
            "---  ------                     --------------  -----   \n",
            " 0   neighbourhood              4817 non-null   category\n",
            " 1   room_type                  4817 non-null   category\n",
            " 2   host_reported_average_tip  4817 non-null   float64 \n",
            " 3   amenities                  4817 non-null   int64   \n",
            " 4   accommodates               4817 non-null   int64   \n",
            " 5   review_scores_rating       4817 non-null   float64 \n",
            " 6   instant_bookable           4817 non-null   bool    \n",
            "dtypes: bool(1), category(2), float64(2), int64(2)\n",
            "memory usage: 202.5 KB\n"
          ]
        }
      ]
    },
    {
      "cell_type": "markdown",
      "source": [
        "We normally do encoding after splitting the dataset in order to prevent data leakage (as described on Uplimit). This also means that encoding now takes three steps per converting encoding. Let's start with the boolean column \"instant_bookable\". For each split, please convert these from a boolean to an int."
      ],
      "metadata": {
        "id": "oTLxvjId6WET"
      },
      "id": "oTLxvjId6WET"
    },
    {
      "cell_type": "code",
      "source": [
        "# Boolean to Int\n",
        "X_train[\"instant_bookable\"] = X_train[\"instant_bookable\"].astype(int)\n",
        "X_val[\"instant_bookable\"] = X_val[\"instant_bookable\"].astype(int)\n",
        "X_test[\"instant_bookable\"] = X_test[\"instant_bookable\"].astype(int)"
      ],
      "metadata": {
        "id": "73EqmIFIPupi"
      },
      "id": "73EqmIFIPupi",
      "execution_count": 17,
      "outputs": []
    },
    {
      "cell_type": "markdown",
      "source": [
        "<details>\n",
        "<summary>Show Solution</summary>\n",
        "\n",
        "```python\n",
        "X_train[\"instant_bookable\"] = X_train[\"instant_bookable\"].astype(int)\n",
        "X_val[\"instant_bookable\"] = X_val[\"instant_bookable\"].astype(int)\n",
        "X_test[\"instant_bookable\"] = X_test[\"instant_bookable\"].astype(int)\n",
        "```\n",
        "</details>"
      ],
      "metadata": {
        "id": "b-6kr7vUfehZ"
      },
      "id": "b-6kr7vUfehZ"
    },
    {
      "cell_type": "markdown",
      "source": [
        "Then please inspect your data by using [`head(2)`](https://pandas.pydata.org/docs/reference/api/pandas.DataFrame.head.html) on one of the three splits to see if our encoding worked. It should display 0 or 1 now for \"instant_bookable\"."
      ],
      "metadata": {
        "id": "yXQ6q0MC682b"
      },
      "id": "yXQ6q0MC682b"
    },
    {
      "cell_type": "code",
      "source": [
        "# Show how the dataframe looks like\n",
        "X_train.head(2)"
      ],
      "metadata": {
        "id": "aFGveS0FP3Ez",
        "outputId": "5f210ef8-d896-49ad-ba95-ecbeeb2192b0",
        "colab": {
          "base_uri": "https://localhost:8080/",
          "height": 112
        }
      },
      "id": "aFGveS0FP3Ez",
      "execution_count": 18,
      "outputs": [
        {
          "output_type": "execute_result",
          "data": {
            "text/plain": [
              "     neighbourhood     room_type  host_reported_average_tip  amenities  \\\n",
              "2791    Westerpark   Shared room                       2.31         10   \n",
              "2897  Centrum-West  Private room                      13.64         17   \n",
              "\n",
              "      accommodates  review_scores_rating  instant_bookable  \n",
              "2791             1                  4.33                 1  \n",
              "2897             4                  4.95                 0  "
            ],
            "text/html": [
              "\n",
              "  <div id=\"df-efb469de-dc38-4777-b3cd-e5e9d3ef2e94\" class=\"colab-df-container\">\n",
              "    <div>\n",
              "<style scoped>\n",
              "    .dataframe tbody tr th:only-of-type {\n",
              "        vertical-align: middle;\n",
              "    }\n",
              "\n",
              "    .dataframe tbody tr th {\n",
              "        vertical-align: top;\n",
              "    }\n",
              "\n",
              "    .dataframe thead th {\n",
              "        text-align: right;\n",
              "    }\n",
              "</style>\n",
              "<table border=\"1\" class=\"dataframe\">\n",
              "  <thead>\n",
              "    <tr style=\"text-align: right;\">\n",
              "      <th></th>\n",
              "      <th>neighbourhood</th>\n",
              "      <th>room_type</th>\n",
              "      <th>host_reported_average_tip</th>\n",
              "      <th>amenities</th>\n",
              "      <th>accommodates</th>\n",
              "      <th>review_scores_rating</th>\n",
              "      <th>instant_bookable</th>\n",
              "    </tr>\n",
              "  </thead>\n",
              "  <tbody>\n",
              "    <tr>\n",
              "      <th>2791</th>\n",
              "      <td>Westerpark</td>\n",
              "      <td>Shared room</td>\n",
              "      <td>2.31</td>\n",
              "      <td>10</td>\n",
              "      <td>1</td>\n",
              "      <td>4.33</td>\n",
              "      <td>1</td>\n",
              "    </tr>\n",
              "    <tr>\n",
              "      <th>2897</th>\n",
              "      <td>Centrum-West</td>\n",
              "      <td>Private room</td>\n",
              "      <td>13.64</td>\n",
              "      <td>17</td>\n",
              "      <td>4</td>\n",
              "      <td>4.95</td>\n",
              "      <td>0</td>\n",
              "    </tr>\n",
              "  </tbody>\n",
              "</table>\n",
              "</div>\n",
              "    <div class=\"colab-df-buttons\">\n",
              "\n",
              "  <div class=\"colab-df-container\">\n",
              "    <button class=\"colab-df-convert\" onclick=\"convertToInteractive('df-efb469de-dc38-4777-b3cd-e5e9d3ef2e94')\"\n",
              "            title=\"Convert this dataframe to an interactive table.\"\n",
              "            style=\"display:none;\">\n",
              "\n",
              "  <svg xmlns=\"http://www.w3.org/2000/svg\" height=\"24px\" viewBox=\"0 -960 960 960\">\n",
              "    <path d=\"M120-120v-720h720v720H120Zm60-500h600v-160H180v160Zm220 220h160v-160H400v160Zm0 220h160v-160H400v160ZM180-400h160v-160H180v160Zm440 0h160v-160H620v160ZM180-180h160v-160H180v160Zm440 0h160v-160H620v160Z\"/>\n",
              "  </svg>\n",
              "    </button>\n",
              "\n",
              "  <style>\n",
              "    .colab-df-container {\n",
              "      display:flex;\n",
              "      gap: 12px;\n",
              "    }\n",
              "\n",
              "    .colab-df-convert {\n",
              "      background-color: #E8F0FE;\n",
              "      border: none;\n",
              "      border-radius: 50%;\n",
              "      cursor: pointer;\n",
              "      display: none;\n",
              "      fill: #1967D2;\n",
              "      height: 32px;\n",
              "      padding: 0 0 0 0;\n",
              "      width: 32px;\n",
              "    }\n",
              "\n",
              "    .colab-df-convert:hover {\n",
              "      background-color: #E2EBFA;\n",
              "      box-shadow: 0px 1px 2px rgba(60, 64, 67, 0.3), 0px 1px 3px 1px rgba(60, 64, 67, 0.15);\n",
              "      fill: #174EA6;\n",
              "    }\n",
              "\n",
              "    .colab-df-buttons div {\n",
              "      margin-bottom: 4px;\n",
              "    }\n",
              "\n",
              "    [theme=dark] .colab-df-convert {\n",
              "      background-color: #3B4455;\n",
              "      fill: #D2E3FC;\n",
              "    }\n",
              "\n",
              "    [theme=dark] .colab-df-convert:hover {\n",
              "      background-color: #434B5C;\n",
              "      box-shadow: 0px 1px 3px 1px rgba(0, 0, 0, 0.15);\n",
              "      filter: drop-shadow(0px 1px 2px rgba(0, 0, 0, 0.3));\n",
              "      fill: #FFFFFF;\n",
              "    }\n",
              "  </style>\n",
              "\n",
              "    <script>\n",
              "      const buttonEl =\n",
              "        document.querySelector('#df-efb469de-dc38-4777-b3cd-e5e9d3ef2e94 button.colab-df-convert');\n",
              "      buttonEl.style.display =\n",
              "        google.colab.kernel.accessAllowed ? 'block' : 'none';\n",
              "\n",
              "      async function convertToInteractive(key) {\n",
              "        const element = document.querySelector('#df-efb469de-dc38-4777-b3cd-e5e9d3ef2e94');\n",
              "        const dataTable =\n",
              "          await google.colab.kernel.invokeFunction('convertToInteractive',\n",
              "                                                    [key], {});\n",
              "        if (!dataTable) return;\n",
              "\n",
              "        const docLinkHtml = 'Like what you see? Visit the ' +\n",
              "          '<a target=\"_blank\" href=https://colab.research.google.com/notebooks/data_table.ipynb>data table notebook</a>'\n",
              "          + ' to learn more about interactive tables.';\n",
              "        element.innerHTML = '';\n",
              "        dataTable['output_type'] = 'display_data';\n",
              "        await google.colab.output.renderOutput(dataTable, element);\n",
              "        const docLink = document.createElement('div');\n",
              "        docLink.innerHTML = docLinkHtml;\n",
              "        element.appendChild(docLink);\n",
              "      }\n",
              "    </script>\n",
              "  </div>\n",
              "\n",
              "\n",
              "<div id=\"df-771858f9-de30-4d86-875b-01c7e8d18b56\">\n",
              "  <button class=\"colab-df-quickchart\" onclick=\"quickchart('df-771858f9-de30-4d86-875b-01c7e8d18b56')\"\n",
              "            title=\"Suggest charts\"\n",
              "            style=\"display:none;\">\n",
              "\n",
              "<svg xmlns=\"http://www.w3.org/2000/svg\" height=\"24px\"viewBox=\"0 0 24 24\"\n",
              "     width=\"24px\">\n",
              "    <g>\n",
              "        <path d=\"M19 3H5c-1.1 0-2 .9-2 2v14c0 1.1.9 2 2 2h14c1.1 0 2-.9 2-2V5c0-1.1-.9-2-2-2zM9 17H7v-7h2v7zm4 0h-2V7h2v10zm4 0h-2v-4h2v4z\"/>\n",
              "    </g>\n",
              "</svg>\n",
              "  </button>\n",
              "\n",
              "<style>\n",
              "  .colab-df-quickchart {\n",
              "      --bg-color: #E8F0FE;\n",
              "      --fill-color: #1967D2;\n",
              "      --hover-bg-color: #E2EBFA;\n",
              "      --hover-fill-color: #174EA6;\n",
              "      --disabled-fill-color: #AAA;\n",
              "      --disabled-bg-color: #DDD;\n",
              "  }\n",
              "\n",
              "  [theme=dark] .colab-df-quickchart {\n",
              "      --bg-color: #3B4455;\n",
              "      --fill-color: #D2E3FC;\n",
              "      --hover-bg-color: #434B5C;\n",
              "      --hover-fill-color: #FFFFFF;\n",
              "      --disabled-bg-color: #3B4455;\n",
              "      --disabled-fill-color: #666;\n",
              "  }\n",
              "\n",
              "  .colab-df-quickchart {\n",
              "    background-color: var(--bg-color);\n",
              "    border: none;\n",
              "    border-radius: 50%;\n",
              "    cursor: pointer;\n",
              "    display: none;\n",
              "    fill: var(--fill-color);\n",
              "    height: 32px;\n",
              "    padding: 0;\n",
              "    width: 32px;\n",
              "  }\n",
              "\n",
              "  .colab-df-quickchart:hover {\n",
              "    background-color: var(--hover-bg-color);\n",
              "    box-shadow: 0 1px 2px rgba(60, 64, 67, 0.3), 0 1px 3px 1px rgba(60, 64, 67, 0.15);\n",
              "    fill: var(--button-hover-fill-color);\n",
              "  }\n",
              "\n",
              "  .colab-df-quickchart-complete:disabled,\n",
              "  .colab-df-quickchart-complete:disabled:hover {\n",
              "    background-color: var(--disabled-bg-color);\n",
              "    fill: var(--disabled-fill-color);\n",
              "    box-shadow: none;\n",
              "  }\n",
              "\n",
              "  .colab-df-spinner {\n",
              "    border: 2px solid var(--fill-color);\n",
              "    border-color: transparent;\n",
              "    border-bottom-color: var(--fill-color);\n",
              "    animation:\n",
              "      spin 1s steps(1) infinite;\n",
              "  }\n",
              "\n",
              "  @keyframes spin {\n",
              "    0% {\n",
              "      border-color: transparent;\n",
              "      border-bottom-color: var(--fill-color);\n",
              "      border-left-color: var(--fill-color);\n",
              "    }\n",
              "    20% {\n",
              "      border-color: transparent;\n",
              "      border-left-color: var(--fill-color);\n",
              "      border-top-color: var(--fill-color);\n",
              "    }\n",
              "    30% {\n",
              "      border-color: transparent;\n",
              "      border-left-color: var(--fill-color);\n",
              "      border-top-color: var(--fill-color);\n",
              "      border-right-color: var(--fill-color);\n",
              "    }\n",
              "    40% {\n",
              "      border-color: transparent;\n",
              "      border-right-color: var(--fill-color);\n",
              "      border-top-color: var(--fill-color);\n",
              "    }\n",
              "    60% {\n",
              "      border-color: transparent;\n",
              "      border-right-color: var(--fill-color);\n",
              "    }\n",
              "    80% {\n",
              "      border-color: transparent;\n",
              "      border-right-color: var(--fill-color);\n",
              "      border-bottom-color: var(--fill-color);\n",
              "    }\n",
              "    90% {\n",
              "      border-color: transparent;\n",
              "      border-bottom-color: var(--fill-color);\n",
              "    }\n",
              "  }\n",
              "</style>\n",
              "\n",
              "  <script>\n",
              "    async function quickchart(key) {\n",
              "      const quickchartButtonEl =\n",
              "        document.querySelector('#' + key + ' button');\n",
              "      quickchartButtonEl.disabled = true;  // To prevent multiple clicks.\n",
              "      quickchartButtonEl.classList.add('colab-df-spinner');\n",
              "      try {\n",
              "        const charts = await google.colab.kernel.invokeFunction(\n",
              "            'suggestCharts', [key], {});\n",
              "      } catch (error) {\n",
              "        console.error('Error during call to suggestCharts:', error);\n",
              "      }\n",
              "      quickchartButtonEl.classList.remove('colab-df-spinner');\n",
              "      quickchartButtonEl.classList.add('colab-df-quickchart-complete');\n",
              "    }\n",
              "    (() => {\n",
              "      let quickchartButtonEl =\n",
              "        document.querySelector('#df-771858f9-de30-4d86-875b-01c7e8d18b56 button');\n",
              "      quickchartButtonEl.style.display =\n",
              "        google.colab.kernel.accessAllowed ? 'block' : 'none';\n",
              "    })();\n",
              "  </script>\n",
              "</div>\n",
              "\n",
              "    </div>\n",
              "  </div>\n"
            ],
            "application/vnd.google.colaboratory.intrinsic+json": {
              "type": "dataframe",
              "variable_name": "X_train",
              "summary": "{\n  \"name\": \"X_train\",\n  \"rows\": 3612,\n  \"fields\": [\n    {\n      \"column\": \"neighbourhood\",\n      \"properties\": {\n        \"dtype\": \"category\",\n        \"num_unique_values\": 22,\n        \"samples\": [\n          \"Westerpark\",\n          \"IJburg - Zeeburgereiland\",\n          \"Buitenveldert - Zuidas\"\n        ],\n        \"semantic_type\": \"\",\n        \"description\": \"\"\n      }\n    },\n    {\n      \"column\": \"room_type\",\n      \"properties\": {\n        \"dtype\": \"category\",\n        \"num_unique_values\": 4,\n        \"samples\": [\n          \"Private room\",\n          \"Entire home/apt\",\n          \"Shared room\"\n        ],\n        \"semantic_type\": \"\",\n        \"description\": \"\"\n      }\n    },\n    {\n      \"column\": \"host_reported_average_tip\",\n      \"properties\": {\n        \"dtype\": \"number\",\n        \"std\": 11.179952207956982,\n        \"min\": 0.0,\n        \"max\": 35.62,\n        \"num_unique_values\": 1498,\n        \"samples\": [\n          16.19,\n          13.39,\n          28.16\n        ],\n        \"semantic_type\": \"\",\n        \"description\": \"\"\n      }\n    },\n    {\n      \"column\": \"amenities\",\n      \"properties\": {\n        \"dtype\": \"number\",\n        \"std\": 9,\n        \"min\": 0,\n        \"max\": 50,\n        \"num_unique_values\": 50,\n        \"samples\": [\n          20,\n          44,\n          5\n        ],\n        \"semantic_type\": \"\",\n        \"description\": \"\"\n      }\n    },\n    {\n      \"column\": \"accommodates\",\n      \"properties\": {\n        \"dtype\": \"number\",\n        \"std\": 4,\n        \"min\": 1,\n        \"max\": 16,\n        \"num_unique_values\": 16,\n        \"samples\": [\n          1,\n          4,\n          9\n        ],\n        \"semantic_type\": \"\",\n        \"description\": \"\"\n      }\n    },\n    {\n      \"column\": \"review_scores_rating\",\n      \"properties\": {\n        \"dtype\": \"number\",\n        \"std\": 0.5761353330117054,\n        \"min\": 0.007693059628544108,\n        \"max\": 5.0,\n        \"num_unique_values\": 1030,\n        \"samples\": [\n          4.094330400782014,\n          3.816979472140763,\n          4.687194525904204\n        ],\n        \"semantic_type\": \"\",\n        \"description\": \"\"\n      }\n    },\n    {\n      \"column\": \"instant_bookable\",\n      \"properties\": {\n        \"dtype\": \"number\",\n        \"std\": 0,\n        \"min\": 0,\n        \"max\": 1,\n        \"num_unique_values\": 2,\n        \"samples\": [\n          0,\n          1\n        ],\n        \"semantic_type\": \"\",\n        \"description\": \"\"\n      }\n    }\n  ]\n}"
            }
          },
          "metadata": {},
          "execution_count": 18
        }
      ]
    },
    {
      "cell_type": "markdown",
      "source": [
        "<details>\n",
        "<summary>Show Solution</summary>\n",
        "\n",
        "```python\n",
        "X_train.head(2)\n",
        "\n",
        "```\n",
        "</details>"
      ],
      "metadata": {
        "id": "NlkAL4mtf5Es"
      },
      "id": "NlkAL4mtf5Es"
    },
    {
      "cell_type": "markdown",
      "source": [
        "#### Part 8: Convert categorical to one-hot encoding\n",
        "\n",
        "The most \"elaborate\" encoding step for us will be encoding our categorical columns to one-hot encoding. Please refer back to Uplimit to see how it's done, because that's exactly what you are going to do below, only you need to change the columns accordingly."
      ],
      "metadata": {
        "id": "dg4YxV_C7PNN"
      },
      "id": "dg4YxV_C7PNN"
    },
    {
      "cell_type": "markdown",
      "source": [
        "<details>\n",
        "<summary>Show Solution</summary>\n",
        "\n",
        "```python\n",
        "# Define how the encoding should work.\n",
        "oh_encoder = OneHotEncoder(  # Define one-hot encoding\n",
        "    sparse_output=False,  # Sparse matrix doesn't work well with Pandas DataFrame.\n",
        "    dtype=\"int\",  # Set type to integer\n",
        ")\n",
        "\n",
        "# Define which columns to transform.\n",
        "oh_enc_transformer = make_column_transformer(  # Define how to output columns\n",
        "    (oh_encoder, [\"room_type\", \"neighbourhood\"]),\n",
        "    verbose_feature_names_out=False,  # Column names are \"more concise\"\n",
        "    remainder=\"passthrough\",  # All other columns should be left untouched\n",
        ")\n",
        "\n",
        "# Train (fit) the transformation on the training set\n",
        "oh_encoded = oh_enc_transformer.fit(X_train)  # Change from category to number\n",
        "\n",
        "```\n",
        "</details>"
      ],
      "metadata": {
        "id": "sHYsnyE6gamc"
      },
      "id": "sHYsnyE6gamc"
    },
    {
      "cell_type": "markdown",
      "source": [
        "Above you \"train\" (fit) an encoder on the training set, afterwhich we apply what it's \"learned\" (transform) to each of the dataset splits. We show you here how to do it for X_train. You'll have to do it yourself for X_val and X_test."
      ],
      "metadata": {
        "id": "KlLS279N70De"
      },
      "id": "KlLS279N70De"
    },
    {
      "cell_type": "code",
      "source": [
        "# One-hot encoder\n",
        "from sklearn.compose import make_column_transformer\n",
        "from sklearn.preprocessing import OneHotEncoder\n",
        "\n",
        "# Define how the encoding should work\n",
        "oh_encoder = OneHotEncoder(  # Define one-hot encoding\n",
        "    sparse_output=False,  # Sparse matrix doesn't work well with Pandas DataFrame\n",
        "    dtype=\"int\",  # Set type to integer\n",
        ")\n",
        "\n",
        "# Define which columns to transform\n",
        "oh_enc_transformer = make_column_transformer(  # Define how to output columns\n",
        "    (oh_encoder, [\"room_type\", \"neighborhood\"]),\n",
        "    verbose_feature_names_out=False,  # Column names are \"more concise\"\n",
        "    remainder=\"passthrough\",  # All other columns should be left untouched\n",
        ")\n",
        "\n",
        "# Train (fit) the transformation on the training set\n",
        "oh_encoded = oh_enc_transformer.fit(X_train)  # Change from category to number"
      ],
      "metadata": {
        "id": "KZiZ9v4ONmwu"
      },
      "id": "KZiZ9v4ONmwu",
      "execution_count": null,
      "outputs": []
    },
    {
      "cell_type": "code",
      "source": [
        "# Transform the train columns into one-hot encoding\n",
        "X_train_oh_enc = oh_encoded.transform(X_train)\n",
        "\n",
        "# Turn the encoded columns into a df\n",
        "X_train = pd.DataFrame(\n",
        "    X_train_oh_enc,  # Input the transformed dataset\n",
        "    columns=oh_encoded.get_feature_names_out(),  # Set column names\n",
        "    index=X_train.index,  # Keep index numbering of original df\n",
        ")"
      ],
      "metadata": {
        "id": "QtfvEk7vMi3m"
      },
      "id": "QtfvEk7vMi3m",
      "execution_count": null,
      "outputs": []
    },
    {
      "cell_type": "code",
      "source": [
        "# Transform the validation columns into one-hot encoding\n",
        "X_val_oh_enc = oh_encoded.transform(X_val)\n",
        "\n",
        "# Turn the encoded columns into a dataframe.\n",
        "X_val = pd.DataFrame(\n",
        "    X_val_oh_enc,  # Input the transformed dataset\n",
        "    columns=oh_encoded.get_feature_names_out(),  # Set column names\n",
        "    index=X_val.index,\n",
        ")"
      ],
      "metadata": {
        "id": "RTf6bNqgQKpK"
      },
      "id": "RTf6bNqgQKpK",
      "execution_count": null,
      "outputs": []
    },
    {
      "cell_type": "markdown",
      "source": [
        "<details>\n",
        "<summary>Show Solution</summary>\n",
        "\n",
        "```python\n",
        "X_val_oh_enc = oh_encoded.transform(X_val)\n",
        "\n",
        "# Turn the encoded columns into a dataframe.\n",
        "X_val = pd.DataFrame(\n",
        "    X_val_oh_enc,  # Input the transformed dataset\n",
        "    columns=oh_encoded.get_feature_names_out(),  # Set column names\n",
        "    index=X_val.index,\n",
        ")\n",
        "\n",
        "```\n",
        "</details>"
      ],
      "metadata": {
        "id": "qnKoLaYwhVQL"
      },
      "id": "qnKoLaYwhVQL"
    },
    {
      "cell_type": "code",
      "source": [
        "\n",
        "# Transform the columns into one-hot-encoding.\n",
        "X_test_oh_enc = oh_encoded.transform(X_test)\n",
        "\n",
        "# Turn the encoded columns into a dataframe.\n",
        "X_test = pd.DataFrame(\n",
        "    X_test_oh_enc,  # Input the transformed dataset\n",
        "    columns=oh_encoded.get_feature_names_out(),  # Set column names\n",
        "    index=X_test.index,  # Keep index numbering of original df\n",
        ")"
      ],
      "metadata": {
        "id": "DitSz2lTQLBK"
      },
      "id": "DitSz2lTQLBK",
      "execution_count": null,
      "outputs": []
    },
    {
      "cell_type": "markdown",
      "source": [
        "<details>\n",
        "<summary>Show Solution</summary>\n",
        "\n",
        "```python\n",
        "\n",
        "# Transform the columns into one-hot-encoding.\n",
        "X_test_oh_enc = oh_encoded.transform(X_test)\n",
        "\n",
        "# Turn the encoded columns into a dataframe.\n",
        "X_test = pd.DataFrame(\n",
        "    X_test_oh_enc,  # Input the transformed dataset\n",
        "    columns=oh_encoded.get_feature_names_out(),  # Set column names\n",
        "    index=X_test.index,  # Keep index numbering of original df\n",
        ")\n",
        "\n",
        "```\n",
        "</details>"
      ],
      "metadata": {
        "id": "O_-JRsb3heZL"
      },
      "id": "O_-JRsb3heZL"
    },
    {
      "cell_type": "markdown",
      "source": [
        "Now when you print out the [`info()`](https://pandas.pydata.org/pandas-docs/stable/reference/api/pandas.DataFrame.info.html) of the data, you might see that the data types have all changed to \"object\". Don't worry, we have a quick fix for that."
      ],
      "metadata": {
        "id": "ttyNZCHw8ZH5"
      },
      "id": "ttyNZCHw8ZH5"
    },
    {
      "cell_type": "code",
      "source": [
        "X_train = X_train.convert_dtypes()\n",
        "X_val = X_val.convert_dtypes()\n",
        "X_test = X_test.convert_dtypes()"
      ],
      "metadata": {
        "id": "6s5EfdAlcwsS"
      },
      "id": "6s5EfdAlcwsS",
      "execution_count": null,
      "outputs": []
    },
    {
      "cell_type": "markdown",
      "source": [
        "Now, let's inspect if the numbers look right."
      ],
      "metadata": {
        "id": "Mt5k6zTO8qpv"
      },
      "id": "Mt5k6zTO8qpv"
    },
    {
      "cell_type": "code",
      "source": [
        "# Show how the dataframe looks like\n",
        "X_train.head(2)"
      ],
      "metadata": {
        "id": "9i1wqdnU0shI"
      },
      "id": "9i1wqdnU0shI",
      "execution_count": null,
      "outputs": []
    },
    {
      "cell_type": "markdown",
      "source": [
        "... and verify if now our [`info()`](https://pandas.pydata.org/pandas-docs/stable/reference/api/pandas.DataFrame.info.html) prints out the dtypes we've expected it to display."
      ],
      "metadata": {
        "id": "l5ibUWe59lRb"
      },
      "id": "l5ibUWe59lRb"
    },
    {
      "cell_type": "code",
      "source": [
        "X_train.info()"
      ],
      "metadata": {
        "id": "q9-wlVKic3Wl"
      },
      "id": "q9-wlVKic3Wl",
      "execution_count": null,
      "outputs": []
    },
    {
      "cell_type": "markdown",
      "source": [
        "Seems about right! On to the next part!"
      ],
      "metadata": {
        "id": "ZTVcqd1S9zJo"
      },
      "id": "ZTVcqd1S9zJo"
    },
    {
      "cell_type": "markdown",
      "source": [
        "---\n",
        "\n",
        "#### (Optional) Part 9: Correlation and SPLOM matrix\n",
        "\n",
        "As discussed on Uplimit, correlation is often a simple and intuitive measure to see which features can be useful to use for our model later on. There exists [many more extensive and better methods](https://neptune.ai/blog/feature-selection-methods) to see and select our features, however for now we'll only focus on this method.\n",
        "\n",
        "Let's recreate the correlation matrix, but now with a few more features and a different target variable."
      ],
      "metadata": {
        "id": "Fx8s1tx999Ky"
      },
      "id": "Fx8s1tx999Ky"
    },
    {
      "cell_type": "code",
      "source": [
        "... # COPY THE CODE FROM UPLIMIT"
      ],
      "metadata": {
        "id": "E84rXcoGQxAI"
      },
      "id": "E84rXcoGQxAI",
      "execution_count": null,
      "outputs": []
    },
    {
      "cell_type": "markdown",
      "source": [
        "<details>\n",
        "<summary>Show Solution</summary>\n",
        "\n",
        "```python\n",
        "# Correlation - what are the best features?\n",
        "import numpy as np\n",
        "import plotly.express as px\n",
        "\n",
        "# Exclude \"neighbourhood\" colums for better visualization.\n",
        "X_train_filtered = X_train.filter(regex=\"^((?!neighbourhood).)*$\")\n",
        "\n",
        "# combine X_train with Y_train\n",
        "ndf_list = pd.concat([X_train_filtered, y_train], axis=1)\n",
        "\n",
        "# Create a dataframe that can be used as a heatmap\n",
        "fig = px.imshow(\n",
        "    ndf_list.corr().round(2),\n",
        "    text_auto=True,\n",
        "    aspect=\"auto\",\n",
        "    color_continuous_scale=\"rdylgn\",\n",
        ")\n",
        "fig.show()\n",
        "\n",
        "```\n",
        "</details>"
      ],
      "metadata": {
        "id": "-o_Pn--Cjepo"
      },
      "id": "-o_Pn--Cjepo"
    },
    {
      "cell_type": "markdown",
      "source": [
        "This reveals that for \"host_reported_average_tip\", there are many features that might be interesting to use. For example, \"amenities\", \"price_in_dollar\", and \"room_type_Shared room\" seem to be quite correlated. To expand our analysis, it might also be worthwhile to visualize these relations by using a [SPLOM](https://plotly.com/python/splom/). Can you create a SPLOM using the provided link, while using the `ndf_list` DataFrame? We'd recommend to set a height of at least \"1200\" as parameter."
      ],
      "metadata": {
        "id": "5tcVfEgm-7ME"
      },
      "id": "5tcVfEgm-7ME"
    },
    {
      "cell_type": "code",
      "source": [
        "... # USE THE CODE FROM THE \"SPLOM\" LINK ABOVE"
      ],
      "metadata": {
        "id": "7mxqDaEaQ-2G"
      },
      "id": "7mxqDaEaQ-2G",
      "execution_count": null,
      "outputs": []
    },
    {
      "cell_type": "markdown",
      "source": [
        "<details>\n",
        "<summary>Show Solution</summary>\n",
        "\n",
        "```python\n",
        "# Splom\n",
        "import plotly.express as px\n",
        "\n",
        "fig = px.scatter_matrix(ndf_list, height=1200)\n",
        "fig.show()\n",
        "\n",
        "```\n",
        "</details>"
      ],
      "metadata": {
        "id": "MykxERdlj_i4"
      },
      "id": "MykxERdlj_i4"
    },
    {
      "cell_type": "markdown",
      "source": [
        "Now that you've seen the dataset, you might understand why some variables are more heavily correlated then some of the other ones, since we can observe some linear trends between a few of these features.\n",
        "\n",
        "---"
      ],
      "metadata": {
        "id": "8R3wGBAL_swJ"
      },
      "id": "8R3wGBAL_swJ"
    },
    {
      "cell_type": "markdown",
      "source": [
        "#### Part 10: Linear Regression\n",
        "\n",
        "We made use of the regression version of the decision tree this week in Uplimit. In this case, we are going to use Linear Regression for price prediction of our Airbnb Listings. For now, you don't need to go to deep into the details if you just want to be able to use it. This is up to you.\n",
        "\n",
        "First you need to import the [Linear Regression Model](https://scikit-learn.org/stable/modules/generated/sklearn.linear_model.LinearRegression.html). Please import this down below and assign this to the model variable."
      ],
      "metadata": {
        "id": "UnPrmXnrBrKs"
      },
      "id": "UnPrmXnrBrKs"
    },
    {
      "cell_type": "code",
      "source": [
        "# Get the algorithm\n",
        "... # IMPORT YOUR CODE HERE\n",
        "\n",
        "# Create a regression algorithm\n",
        "model = ... # YOUR CODE HERE"
      ],
      "metadata": {
        "id": "V-t2Lr0_RMfK"
      },
      "id": "V-t2Lr0_RMfK",
      "execution_count": null,
      "outputs": []
    },
    {
      "cell_type": "markdown",
      "source": [
        "<details>\n",
        "<summary>Show Solution</summary>\n",
        "\n",
        "```python\n",
        "# Get the algorithm\n",
        "from sklearn.linear_model import LinearRegression\n",
        "\n",
        "# Create a regression algorithm\n",
        "model = LinearRegression()\n",
        "\n",
        "```\n",
        "</details>"
      ],
      "metadata": {
        "id": "e2CXA7L-kPFM"
      },
      "id": "e2CXA7L-kPFM"
    },
    {
      "cell_type": "markdown",
      "source": [
        "#### Part 11: Model training, pt. 1\n",
        "\n",
        "Let's train our algorithm using the `X_train` dataset, where we only use the features that are most highly correlated with the target variable. In this case, let's use `amenities`.\n",
        "\n",
        "A tip: You might want to use [`np.squeeze()`](https://numpy.org/doc/stable/reference/generated/numpy.squeeze.html) instead for the target variable, when the implementation recommends that you use `ravel()`."
      ],
      "metadata": {
        "id": "lrG5LQejDsDp"
      },
      "id": "lrG5LQejDsDp"
    },
    {
      "cell_type": "code",
      "source": [
        "# Fit the model - Pick one feature \"amenities\"\n",
        "model.fit(  # Train it (\"Learn the material\")\n",
        "    ... , # YOUR CODE HERE\n",
        "    ... # YOUR CODE HERE\n",
        ")"
      ],
      "metadata": {
        "id": "iYB4TGe8Rb_k"
      },
      "id": "iYB4TGe8Rb_k",
      "execution_count": null,
      "outputs": []
    },
    {
      "cell_type": "markdown",
      "source": [
        "<details>\n",
        "<summary>Show Solution</summary>\n",
        "\n",
        "```python\n",
        "# Fit the model - Pick one feature \"amenities\"\n",
        "model.fit(  # Train it (\"Learn the material\")\n",
        "    X_train[[\"amenities\"]],\n",
        "    np.squeeze(y_train),\n",
        ")\n",
        "\n",
        "```\n",
        "</details>"
      ],
      "metadata": {
        "id": "nv7qEsOGljJX"
      },
      "id": "nv7qEsOGljJX"
    },
    {
      "cell_type": "markdown",
      "source": [
        "#### Part 12: The right metric\n",
        "\n",
        "\n",
        "Let's re-use the [$R^2$ score metric](https://scikit-learn.org/stable/modules/generated/sklearn.metrics.r2_score.html) for now because it seems quite intuitive. There are [many other metrics](https://www.qualdo.ai/blog/complete-list-of-performance-metrics-for-monitoring-regression-models/) that you might preferably use otherwise. However, that is not the goal of this project 😁."
      ],
      "metadata": {
        "id": "ZMEipRclEzKn"
      },
      "id": "ZMEipRclEzKn"
    },
    {
      "cell_type": "code",
      "source": [
        "# Get the R2 metric\n",
        "... # IMPORT YOUR CODE HERE"
      ],
      "metadata": {
        "id": "CfcQWRjgRkz3"
      },
      "id": "CfcQWRjgRkz3",
      "execution_count": null,
      "outputs": []
    },
    {
      "cell_type": "markdown",
      "source": [
        "<details>\n",
        "<summary>Show Solution</summary>\n",
        "\n",
        "```python\n",
        "from sklearn.metrics import r2_score\n",
        "\n",
        "```\n",
        "</details>"
      ],
      "metadata": {
        "id": "5h59e3k0lz_U"
      },
      "id": "5h59e3k0lz_U"
    },
    {
      "cell_type": "markdown",
      "source": [
        "#### Part 13: Predict and SCORE!!!\n",
        "\n",
        "Since we trained our model, let's use it to make predictions with examples of the validation set."
      ],
      "metadata": {
        "id": "xlOPj2lbFXBY"
      },
      "id": "xlOPj2lbFXBY"
    },
    {
      "cell_type": "code",
      "source": [
        "# Predict\n",
        "y_predict = ... # YOUR CODE HERE"
      ],
      "metadata": {
        "id": "2xaGh1nCRwoW"
      },
      "id": "2xaGh1nCRwoW",
      "execution_count": null,
      "outputs": []
    },
    {
      "cell_type": "markdown",
      "source": [
        "<details>\n",
        "<summary>Show Solution</summary>\n",
        "\n",
        "```python\n",
        "y_predict = model.predict(X_val[[\"amenities\"]])\n",
        "\n",
        "```\n",
        "</details>"
      ],
      "metadata": {
        "id": "yCPZzVP1mOLF"
      },
      "id": "yCPZzVP1mOLF"
    },
    {
      "cell_type": "markdown",
      "source": [
        "Now let's use these predictions to calculate our $R^2$ score and round it off by four digits!"
      ],
      "metadata": {
        "id": "x1Yvis2EGEMy"
      },
      "id": "x1Yvis2EGEMy"
    },
    {
      "cell_type": "code",
      "source": [
        "... # YOUR CODE HERE"
      ],
      "metadata": {
        "id": "qDygayfzR2V1"
      },
      "id": "qDygayfzR2V1",
      "execution_count": null,
      "outputs": []
    },
    {
      "cell_type": "markdown",
      "source": [
        "<details>\n",
        "<summary>Show Solution</summary>\n",
        "\n",
        "```python\n",
        "r2_score(y_predict, y_val).round(4)\n",
        "\n",
        "```\n",
        "</details>"
      ],
      "metadata": {
        "id": "IuXXsbDQmevk"
      },
      "id": "IuXXsbDQmevk"
    },
    {
      "cell_type": "markdown",
      "source": [
        "Awesome, the scoring is quite good! Let's try some other features as well!"
      ],
      "metadata": {
        "id": "hkZ74mnSGBmn"
      },
      "id": "hkZ74mnSGBmn"
    },
    {
      "cell_type": "markdown",
      "source": [
        "#### (Optional) Part 14: Scatter Plot and Regression Line\n",
        "\n",
        "In this section, we are going to use Plotly to plot our `amenities` features on the x-axis, and `price_in_dollar` on the y-axis. And then we will plot the line of regression generated from training our Linear Regression Model."
      ],
      "metadata": {
        "id": "69FzYH7g2u4V"
      },
      "id": "69FzYH7g2u4V"
    },
    {
      "cell_type": "code",
      "source": [
        "import plotly.express as px\n",
        "import plotly.graph_objects as go\n",
        "\n",
        "... #YOUR CODE HERE"
      ],
      "metadata": {
        "id": "0uDVi0Q22uFc"
      },
      "id": "0uDVi0Q22uFc",
      "execution_count": null,
      "outputs": []
    },
    {
      "cell_type": "markdown",
      "source": [
        "<details>\n",
        "<summary>Show Solution</summary>\n",
        "\n",
        "```python\n",
        "import plotly.express as px\n",
        "import plotly.graph_objects as go\n",
        "updatedX = np.array(X_val['amenities'])\n",
        "\n",
        "reference_line = go.Scatter(x=updatedX,\n",
        "                            y=y_predict,\n",
        "                            mode=\"lines\",\n",
        "                            line=go.scatter.Line(color=\"gray\"),\n",
        "                            showlegend=False)\n",
        "\n",
        "fig = px.scatter(x=X_val['amenities'], y=y_val['price_in_dollar'])\n",
        "\n",
        "fig.add_trace(reference_line)\n",
        "\n",
        "fig.show()\n",
        "```\n",
        "</details>"
      ],
      "metadata": {
        "id": "KY_yqeEWhXyr"
      },
      "id": "KY_yqeEWhXyr"
    },
    {
      "cell_type": "markdown",
      "source": [
        "---\n",
        "\n",
        "#### (Optional) Part 15: Model training, pt. 2\n",
        "\n",
        "Please use some other features that you think might be interesting for training. What happens if you use an extra feature? What happens if you use a lowly correlated feature? What happens if you use all features?"
      ],
      "metadata": {
        "id": "O8fhHcnfGaHL"
      },
      "id": "O8fhHcnfGaHL"
    },
    {
      "cell_type": "code",
      "source": [
        "# Repeat the previous four cells (Parts 11 until 13)\n",
        "# Choose some other features\n",
        "# Fit, Predict, Score\n",
        "\n",
        "... # YOUR CODE HERE"
      ],
      "metadata": {
        "id": "BZmEIxN6R_sQ"
      },
      "id": "BZmEIxN6R_sQ",
      "execution_count": null,
      "outputs": []
    },
    {
      "cell_type": "markdown",
      "source": [
        "<details>\n",
        "<summary>Show Solution</summary>\n",
        "\n",
        "```python\n",
        "\n",
        "# Fit the model - Pick two feature that you think are best\n",
        "model.fit(  # Train it (\"Learn the material\")\n",
        "    X_train[\"accommodates\", \"room_type_Shared room\"]],\n",
        "    np.squeeze(y_train),\n",
        ")\n",
        "\n",
        "# Predict\n",
        "y_predict = model.predict(X_val[[\"accommodates\", \"room_type_Shared room\"]])  # Do a \"final exam\"\n",
        "\n",
        "# Score\n",
        "# Compare algorithms' \"final exam\" vs. expected.\n",
        "r2_score(y_predict, y_val).round(4)\n",
        "\n",
        "```\n",
        "</details>"
      ],
      "metadata": {
        "id": "csLV6-6snCFk"
      },
      "id": "csLV6-6snCFk"
    },
    {
      "cell_type": "markdown",
      "source": [
        "---\n",
        "\n",
        "#### Part 16: Model training, pt. 3\n",
        "\n",
        "Select the three features \"amenities\", \"accommodates\", and \"instant_bookable\" for training and creating predictions for our model."
      ],
      "metadata": {
        "id": "YEHa1fxmG-by"
      },
      "id": "YEHa1fxmG-by"
    },
    {
      "cell_type": "code",
      "source": [
        "# Repeat the previous four cells (Parts 11 until 13)\n",
        "# Choose the three features\n",
        "# Fit, Predict, Score\n",
        "\n",
        "... # YOUR CODE HERE"
      ],
      "metadata": {
        "id": "MeRgPAxjSN1j"
      },
      "id": "MeRgPAxjSN1j",
      "execution_count": null,
      "outputs": []
    },
    {
      "cell_type": "markdown",
      "source": [
        "<details>\n",
        "<summary>Show Solution</summary>\n",
        "\n",
        "```python\n",
        "# Fit, Predict, Score\n",
        "model.fit(  # Train it (\"Learn the material\")\n",
        "    X_train[[\"amenities\", \"accommodates\", \"instant_bookable\"]],\n",
        "    np.squeeze(y_train),\n",
        ")\n",
        "\n",
        "# Predict\n",
        "y_predict = model.predict(X_test[[\"amenities\", \"accommodates\", \"instant_bookable\"]])  # Do a \"final exam\"\n",
        "\n",
        "# Score\n",
        "# Compare algorithms' \"final exam\" vs. expected.\n",
        "r2_score(y_predict, y_test).round(4)\n",
        "\n",
        "\n",
        "```\n",
        "</details>"
      ],
      "metadata": {
        "id": "HuqQD_tankNd"
      },
      "id": "HuqQD_tankNd"
    },
    {
      "cell_type": "markdown",
      "source": [
        "#### Part 17: Example prediction\n",
        "\n",
        "[*\\[Related section on Uplimit\\]*](https://uplimit.com/course/python-for-machine-learning/v2/module/first-algo#corise_clcuzv5kf00062a73t4hr7w8i)\n",
        "\n",
        "We've trained a model using three features. Now let's create an example based on these three features and inspect the kind of average tip the model would expect!"
      ],
      "metadata": {
        "id": "vIBePV2WHVCF"
      },
      "id": "vIBePV2WHVCF"
    },
    {
      "cell_type": "code",
      "source": [
        "# Predict a listing price based on \"50\" amenities, \"4\" accommodates, instant_bookable=True (1)\n",
        "example = [[...]] # YOUR CODE HERE\n",
        "\n",
        "# Round off by 2\n",
        "... # YOUR CODE HERE"
      ],
      "metadata": {
        "id": "uVVZmPpnSZ0C"
      },
      "id": "uVVZmPpnSZ0C",
      "execution_count": null,
      "outputs": []
    },
    {
      "cell_type": "markdown",
      "source": [
        "<details>\n",
        "<summary>Show Solution</summary>\n",
        "\n",
        "```python\n",
        "example = [[20, 4, 1]]\n",
        "\n",
        "model.predict(example).round(2)\n",
        "\n",
        "```\n",
        "</details>"
      ],
      "metadata": {
        "id": "Sgzx-5mooDJf"
      },
      "id": "Sgzx-5mooDJf"
    },
    {
      "cell_type": "markdown",
      "source": [
        "Awesome! Today you've made a machine learning project by using NumPy, Pandas, Plotly, and Scikit-learn to create predictions given the Airbnb dataset! This is a simplified version of a professional workflow, but that is often how companies start — first by doing the bare minimum, and then expanding the complexity of the model. That way you can have something up-and-running quickly that steadily improves with a very quick feedback loop!\n",
        "\n",
        "Now as an extra we'll explore how to deploy this model as a Streamlit app!"
      ],
      "metadata": {
        "id": "SWpIjbkiKvcj"
      },
      "id": "SWpIjbkiKvcj"
    },
    {
      "cell_type": "markdown",
      "source": [
        "### (Optional) Make an app for your portfolio!\n",
        "\n",
        "<center>\n",
        "  <img src=https://griddb-pro.azureedge.net/en/wp-content/uploads/2021/08/streamlit-1160x650.png width=\"500\" align=\"center\" />\n",
        "</center>\n",
        "<br/>\n",
        "\n",
        "**Participants such as yourselves often want to use the weekly Uplimit projects for their portfolios. To facilitate that, we've created this section. It might seem like a lot, but it's actually just following instructions and copy-pasting. Reach out on Slack if you get stuck!**\n",
        "\n",
        "You will make an app that uses the model you just created, encapsulates that in a neat Streamlit interface, where you can provide input through the use of sliders!\n",
        "\n",
        "<!-- <center>\n",
        "  <img src=https://i.ibb.co/N9JKbd8/Screen-Shot-2022-11-10-at-4- width=\"500\" align=\"center\" />\n",
        "</center>\n",
        "<br/> -->\n",
        "\n",
        "To visualize this, we will again use a library called [Streamlit](https://streamlit.io/). For now you are not expected to know how Streamlit works, but you are expected to be able to copy-paste and follow instructions if you want to share this project as part of your portfolio!\n",
        "\n",
        "We are going to use [Streamlit Share](https://share.streamlit.io/) to host your projects. It's a website that allows us to host our interactive projects for free online! Again, we don't expect you to understand how to use and/or modify the code we will show below. We do expect you to read the instructions and copy-paste our code to the Streamlit Share platform. Feel free to change it any way you like. Some great starting points are [here](https://python.plainenglish.io/how-to-build-web-app-using-streamlit-pandas-numpy-5e134f0cf552), [here](https://docs.streamlit.io/library/get-started/create-an-app), [here](https://streamlit.io/components), and [here](https://streamlit.io/gallery)!"
      ],
      "metadata": {
        "id": "PvhgbGXiLVTc"
      },
      "id": "PvhgbGXiLVTc"
    },
    {
      "cell_type": "code",
      "source": [
        "import pickle\n",
        "\n",
        "pickle.dump(model, open(\"model.pkl\", \"wb\"))"
      ],
      "metadata": {
        "id": "4AVyiZlPvLcZ"
      },
      "id": "4AVyiZlPvLcZ",
      "execution_count": null,
      "outputs": []
    },
    {
      "cell_type": "code",
      "source": [
        "from google.colab import files\n",
        "\n",
        "# Download the file locally\n",
        "files.download('model.pkl')"
      ],
      "metadata": {
        "id": "Z1-BMQx4vhkM"
      },
      "id": "Z1-BMQx4vhkM",
      "execution_count": null,
      "outputs": []
    },
    {
      "cell_type": "code",
      "source": [
        "%%writefile streamlit_app.py\n",
        "import streamlit as st\n",
        "import sklearn\n",
        "import pickle\n",
        "\n",
        "model = pickle.load(open(\"model.pkl\", \"rb\"))\n",
        "\n",
        "st.title(\"Week 3: The Airbnb dataset of Amsterdam\")\n",
        "st.markdown(\n",
        "    \"The dataset contains modifications with regards to the original for illustrative & learning purposes\"\n",
        ")\n",
        "\n",
        "amenities = st.slider('How many amenities does the listing have?', 0, 50, 20)\n",
        "accommodates = st.slider('How many people does the listing accommodate?', 1, 16, 2)\n",
        "instant_bookable = st.radio(\n",
        "    \"Is the listing instantly bookable?\",\n",
        "    (\"True\", \"False\"))\n",
        "instant_bookable = 1 if instant_bookable == \"True\" else 0\n",
        "\n",
        "user_input = [[amenities, accommodates, instant_bookable]]\n",
        "\n",
        "if st.button('Predict?'):\n",
        "    st.write(\"The model predicts that the average tip for this listing is:\", model.predict(user_input).round(2))"
      ],
      "metadata": {
        "id": "iu9zLIbXpwmy"
      },
      "id": "iu9zLIbXpwmy",
      "execution_count": null,
      "outputs": []
    },
    {
      "cell_type": "markdown",
      "source": [
        "The **%%writefile [FILE_NAME].[FILE_EXTENSION]** command let's us save the code written in the cells in your Google Colab instance. Having it saved like that enables us to download it as a file, as seen below:"
      ],
      "metadata": {
        "id": "_AYCGSIhLvnL"
      },
      "id": "_AYCGSIhLvnL"
    },
    {
      "cell_type": "code",
      "source": [
        "from google.colab import files\n",
        "\n",
        "# Download the file locally\n",
        "files.download('streamlit_app.py')"
      ],
      "metadata": {
        "id": "23mmiMQctwLM"
      },
      "id": "23mmiMQctwLM",
      "execution_count": null,
      "outputs": []
    },
    {
      "cell_type": "code",
      "source": [
        "%%writefile requirements.txt\n",
        "streamlit\n",
        "pandas\n",
        "scikit-learn"
      ],
      "metadata": {
        "id": "9dXqVGYRuEIL"
      },
      "id": "9dXqVGYRuEIL",
      "execution_count": null,
      "outputs": []
    },
    {
      "cell_type": "code",
      "source": [
        "from google.colab import files\n",
        "\n",
        "# Download the file locally\n",
        "files.download('requirements.txt')"
      ],
      "metadata": {
        "id": "3ViZ7akAuM3t"
      },
      "id": "3ViZ7akAuM3t",
      "execution_count": null,
      "outputs": []
    },
    {
      "cell_type": "markdown",
      "source": [
        "Please verify that you've downloaded three files:\n",
        "- `model.pkl`\n",
        "- `streamlit_app.py`\n",
        "- `requirements.txt`\n",
        "\n",
        "Now let's head over to GitHub and [create an account](https://github.com/signup).\n",
        "\n",
        "Then, since you are logged in [go to GitHub.com](https://github.com) and click on the **+** icon at the top-right corner and select **New repository**.\n",
        "\n",
        "<center>\n",
        "  <img src=https://i.ibb.co/4gkPBCp/Screen-Shot-2022-11-28-at-1-51-02-PM.png width=\"300\" align=\"center\" />\n",
        "</center>\n",
        "<br/>\n",
        "\n",
        "Here you provide:\n",
        "- **Repository name**: Up to you\n",
        "- **License**: Up to you. We recommend **apache-2.0**.\n",
        "\n",
        "- **Public or private?** Public, otherwise you can't host it on [Streamlit Share](https://share.streamlit.io)!\n",
        "\n",
        "<center>\n",
        "  <img src=https://i.ibb.co/0B533dw/Screen-Shot-2022-11-28-at-1-55-14-PM.png width=\"450\" align=\"center\" />\n",
        "</center>\n",
        "<br/>\n",
        "\n",
        "Then upload the three files to this URL below. ***Please modify it before copy-pasting it***:\n",
        "\n",
        "```https://github.com/[YOUR_ACCOUNT_NAME]/[YOUR_REPOSITORY_NAME]/upload/main```\n",
        "\n",
        "<center>\n",
        "  <img src=https://i.ibb.co/jTsrgJw/Screen-Shot-2022-11-28-at-1-58-31-PM.png width=\"500\" align=\"center\" />\n",
        "</center>\n",
        "<br/>\n",
        "\n",
        "Commit directly to the `main` branch, then click **Commit changes**.\n",
        "\n",
        "Next, you have to create an account on [Streamlit Share](https://share.streamlit.io/signup).\n",
        "\n",
        "<center>\n",
        "  <img src=https://i.ibb.co/znFngJc/Screen-Shot-2022-11-28-at-1-59-47-PM.png width=\"500\" align=\"center\" />\n",
        "</center>\n",
        "<br/>\n",
        "\n",
        "It's recommended to click **Continue with GitHub**.\n",
        "\n",
        "Then, select **New app** **>** **Deploy a new app...** **>** **From existing repo**.\n",
        "\n",
        "<center>\n",
        "  <img src=https://i.ibb.co/VQPQzt3/Screen-Shot-2022-11-28-at-2-05-04-PM.png width=\"500\" align=\"center\" />\n",
        "</center>\n",
        "\n",
        "Followed by providing your:\n",
        "\n",
        "```[GITHUB_ACCOUNT_NAME]/[GITHUB_REPOSITORY]```\n",
        "\n",
        "<center>\n",
        "  <img src=https://i.ibb.co/PDSQccD/Screen-Shot-2022-11-28-at-2-10-47-PM.png width=\"500\" align=\"center\" />\n",
        "</center>\n",
        "\n",
        "You will have to wait around 1-5 minutes, then an automatic hyperlink is generated for your new website. An example is this app:\n",
        "\n",
        "```https://[GITHUB_ACCOUNT_NAME]-[GITHUB_REPOSITORY]-[RANDOM_6_LETTER_STRING].streamlit.app/```\n",
        "\n",
        "***Please modify the link before copy-pasting it.***"
      ],
      "metadata": {
        "id": "5STbAwboLzCY"
      },
      "id": "5STbAwboLzCY"
    },
    {
      "cell_type": "markdown",
      "source": [
        "---\n",
        "\n",
        "# 🎉 CONGRATULATIONS!!!\n",
        "\n",
        "You've made it to the end of the Week 3 assignment! You should be proud.\n",
        "\n",
        "If you have any lingering questions, post them on Slack! As you know, we're always here to help.\n",
        "\n",
        "And if you want any additional challenge questions, check out the bonus extensions below.\n",
        "\n",
        "---\n",
        "\n",
        "## (Optional) Extensions\n",
        "\n",
        "<center>\n",
        "  <img src=https://upload.wikimedia.org/wikipedia/commons/c/c6/Celebration_fireworks.jpg width=\"500\" align=\"center\" />\n",
        "</center>\n",
        "<br/>\n",
        "\n",
        "🎉🎉 Amazing 🎉🎉 You completed this week's project! Have you thought about extending this project and try some extensions like:\n",
        "\n",
        "- Using different [regression algorithms](https://towardsdatascience.com/choosing-a-scikit-learn-linear-regression-algorithm-dd96b48105f5) from the Scikit-learn toolkit!\n",
        "- Using [different metrics](https://www.qualdo.ai/blog/complete-list-of-performance-metrics-for-monitoring-regression-models/) for the model?\n",
        "- Train the model on different features and modify the Streamlit app to reflect that?\n",
        "- ...\n",
        "\n",
        "The possibilities are endless!\n",
        "\n",
        "# Next up?\n",
        "Next week we will ramp up our knowledge of Scikit-learn and introduce some other new algorithms! While this week was focused on supervised machine learning problems, regression in particular, next week is more focused on classification and a a few unsupervised algorithms!"
      ],
      "metadata": {
        "id": "hnwmZSP1L_7M"
      },
      "id": "hnwmZSP1L_7M"
    }
  ],
  "metadata": {
    "kernelspec": {
      "display_name": "Python 3 (ipykernel)",
      "language": "python",
      "name": "python3"
    },
    "language_info": {
      "codemirror_mode": {
        "name": "ipython",
        "version": 3
      },
      "file_extension": ".py",
      "mimetype": "text/x-python",
      "name": "python",
      "nbconvert_exporter": "python",
      "pygments_lexer": "ipython3",
      "version": "3.10.4"
    },
    "colab": {
      "provenance": [],
      "include_colab_link": true
    }
  },
  "nbformat": 4,
  "nbformat_minor": 5
}